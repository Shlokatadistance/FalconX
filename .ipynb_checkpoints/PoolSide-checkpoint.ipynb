{
 "cells": [
  {
   "cell_type": "code",
   "execution_count": 1,
   "id": "9e1f1ad2",
   "metadata": {},
   "outputs": [],
   "source": [
    "from gql import gql,Client\n",
    "from gql.transport.requests import RequestsHTTPTransport"
   ]
  },
  {
   "cell_type": "code",
   "execution_count": 2,
   "id": "af9dd803",
   "metadata": {},
   "outputs": [],
   "source": [
    "sample_transport=RequestsHTTPTransport(\n",
    "    url='https://api.thegraph.com/subgraphs/name/uniswap/uniswap-v2',\n",
    "    verify=True,\n",
    "    retries=5,\n",
    ")\n",
    "client = Client(\n",
    "transport = sample_transport\n",
    ")\n"
   ]
  },
  {
   "cell_type": "code",
   "execution_count": 3,
   "id": "53da6c72",
   "metadata": {},
   "outputs": [],
   "source": [
    "liquidity = []\n",
    "volumecheck = []\n",
    "transactions = []\n",
    "count = 11276855\n"
   ]
  },
  {
   "cell_type": "code",
   "execution_count": 6,
   "id": "40300aa3",
   "metadata": {},
   "outputs": [
    {
     "name": "stdout",
     "output_type": "stream",
     "text": [
      "{'uniswapFactory': {'totalLiquidityETH': '3775354.007258222495612702909830977', 'totalLiquidityUSD': '1811649153.462412111578968988717799', 'totalVolumeUSD': '35049599668.73876561807658387583774', 'txCount': '17598124'}}\n",
      "hello\n",
      "{'uniswapFactory': {'totalLiquidityETH': '3716419.644552012164888287068359298', 'totalLiquidityUSD': '1737788021.472165726897644996532261', 'totalVolumeUSD': '34974884910.30537389104559487914776', 'txCount': '17573468'}}\n",
      "hello\n",
      "{'uniswapFactory': {'totalLiquidityETH': '3934901.983549146309251887241568918', 'totalLiquidityUSD': '1818425905.091215582617297956159227', 'totalVolumeUSD': '34935026310.94969831351041433894119', 'txCount': '17551293'}}\n",
      "hello\n",
      "{'uniswapFactory': {'totalLiquidityETH': '4199354.358197023840480766052813417', 'totalLiquidityUSD': '1946315966.611804296268358305155124', 'totalVolumeUSD': '34898186686.03000848704017882875448', 'txCount': '17529991'}}\n",
      "hello\n",
      "{'uniswapFactory': {'totalLiquidityETH': '4453787.828833387415917471718642627', 'totalLiquidityUSD': '2067006841.401715398844368548139851', 'totalVolumeUSD': '34860103490.64489060559361355400437', 'txCount': '17509354'}}\n",
      "hello\n",
      "{'uniswapFactory': {'totalLiquidityETH': '6599011.785507029992655884591541046', 'totalLiquidityUSD': '3049108617.717602659383768654230183', 'totalVolumeUSD': '34735400449.66557918176144571456112', 'txCount': '17485306'}}\n",
      "hello\n",
      "{'uniswapFactory': {'totalLiquidityETH': '6700389.545847250454269276166707271', 'totalLiquidityUSD': '3098644343.377159594482913291187239', 'totalVolumeUSD': '34691965406.80699903113092844126528', 'txCount': '17460466'}}\n",
      "hello\n",
      "{'uniswapFactory': {'totalLiquidityETH': '6759740.100445009051451008802583796', 'totalLiquidityUSD': '3099623851.698781987822800455188154', 'totalVolumeUSD': '34623574786.18873968928648558573194', 'txCount': '17435907'}}\n",
      "hello\n",
      "{'uniswapFactory': {'totalLiquidityETH': '7048899.638921149962607300138832007', 'totalLiquidityUSD': '3187696482.1860555116251176434976', 'totalVolumeUSD': '34576162627.54393834098831740846602', 'txCount': '17412433'}}\n",
      "hello\n",
      "{'uniswapFactory': {'totalLiquidityETH': '7044871.521984620955266074836257152', 'totalLiquidityUSD': '3199541216.880352214776142914460972', 'totalVolumeUSD': '34548235524.61149726292489347571367', 'txCount': '17393307'}}\n",
      "hello\n",
      "{'uniswapFactory': {'totalLiquidityETH': '7087511.235047873135949489960228972', 'totalLiquidityUSD': '3184057537.622968210229389761448174', 'totalVolumeUSD': '34509543684.42520669234667088164901', 'txCount': '17372042'}}\n",
      "hello\n",
      "{'uniswapFactory': {'totalLiquidityETH': '7122085.126809778438060997496603849', 'totalLiquidityUSD': '3195533754.876350070399691357075604', 'totalVolumeUSD': '34476007036.39204985821628451607563', 'txCount': '17351523'}}\n",
      "hello\n",
      "{'uniswapFactory': {'totalLiquidityETH': '7153388.707112206253428537984161327', 'totalLiquidityUSD': '3165732164.948185437494642364698308', 'totalVolumeUSD': '34433658518.58281200981106943139854', 'txCount': '17326814'}}\n",
      "hello\n",
      "{'uniswapFactory': {'totalLiquidityETH': '7127251.484416720879980582445701304', 'totalLiquidityUSD': '3194248968.722995835472160750936321', 'totalVolumeUSD': '34394289920.97225826851531504768928', 'txCount': '17302713'}}\n",
      "hello\n",
      "{'uniswapFactory': {'totalLiquidityETH': '7073440.627047136950322004823115485', 'totalLiquidityUSD': '3229721389.378540238255445597419812', 'totalVolumeUSD': '34342551787.1672741369660075478566', 'txCount': '17276863'}}\n",
      "hello\n",
      "{'uniswapFactory': {'totalLiquidityETH': '7135188.515411699636941320942347291', 'totalLiquidityUSD': '3273556685.22045652810339566540544', 'totalVolumeUSD': '34314000675.46230136142781228285534', 'txCount': '17256434'}}\n",
      "hello\n",
      "{'uniswapFactory': {'totalLiquidityETH': '7159168.223980372046308792016628396', 'totalLiquidityUSD': '3289315582.95131770775678398801662', 'totalVolumeUSD': '34286867957.3136479184083126682631', 'txCount': '17237651'}}\n",
      "hello\n",
      "{'uniswapFactory': {'totalLiquidityETH': '7185937.824127740395694229066609412', 'totalLiquidityUSD': '3296575637.752871834891902674250602', 'totalVolumeUSD': '34263534592.0108789964973096534464', 'txCount': '17218761'}}\n",
      "hello\n",
      "{'uniswapFactory': {'totalLiquidityETH': '7179033.154130796102619733548920943', 'totalLiquidityUSD': '3310371966.542373688699035122892458', 'totalVolumeUSD': '34239699692.49185939776814172531423', 'txCount': '17199806'}}\n",
      "hello\n",
      "{'uniswapFactory': {'totalLiquidityETH': '7175066.454857401400170643381671613', 'totalLiquidityUSD': '3292707859.6511898928082470191976', 'totalVolumeUSD': '34217737899.59974573364786448517121', 'txCount': '17179387'}}\n",
      "hello\n",
      "{'uniswapFactory': {'totalLiquidityETH': '7163296.788866848139452349456524983', 'totalLiquidityUSD': '3286684309.522150848883781165232213', 'totalVolumeUSD': '34174845172.91054265287794649823202', 'txCount': '17155655'}}\n",
      "hello\n",
      "{'uniswapFactory': {'totalLiquidityETH': '7149712.031910539831788992830506733', 'totalLiquidityUSD': '3266161285.373393579908784009986331', 'totalVolumeUSD': '33952974779.81122026757901222454549', 'txCount': '17132816'}}\n",
      "hello\n",
      "{'uniswapFactory': {'totalLiquidityETH': '7129775.407164655279737014456535366', 'totalLiquidityUSD': '3287652062.667633221579972784155343', 'totalVolumeUSD': '33916619036.34685063734895158432767', 'txCount': '17115127'}}\n",
      "hello\n",
      "{'uniswapFactory': {'totalLiquidityETH': '7100417.888379564869769223389880217', 'totalLiquidityUSD': '3322654891.001432151669985474006094', 'totalVolumeUSD': '33883515781.18442020278236209385749', 'txCount': '17100005'}}\n",
      "hello\n",
      "{'uniswapFactory': {'totalLiquidityETH': '7078880.615066243845383217497019249', 'totalLiquidityUSD': '3343311115.76620244402073705304284', 'totalVolumeUSD': '33859667859.16435695758185766654573', 'txCount': '17086380'}}\n",
      "hello\n",
      "{'uniswapFactory': {'totalLiquidityETH': '7092736.399507249604423231151468577', 'totalLiquidityUSD': '3340317189.790134272693096485890519', 'totalVolumeUSD': '33820096541.45896613741298270839377', 'txCount': '17063979'}}\n",
      "hello\n",
      "{'uniswapFactory': {'totalLiquidityETH': '7098175.127982260102346545541858265', 'totalLiquidityUSD': '3328232968.707095905815088957839271', 'totalVolumeUSD': '33778693576.40070351318113153093614', 'txCount': '17039084'}}\n",
      "hello\n"
     ]
    }
   ],
   "source": [
    "while count > 11250000:\n",
    "    query = gql('''\n",
    "    query {\n",
    "    uniswapFactory(id:\"0x5C69bEe701ef814a2B6a3EDD4B1652CB9cc5aA6f\",block: {number: '''+str(count)+'''}){\n",
    "    \n",
    "    totalLiquidityUSD\n",
    "    totalVolumeUSD\n",
    "    totalLiquidityETH\n",
    "    txCount\n",
    "    \n",
    "    }\n",
    "    }''')\n",
    "    data = client.execute(query)\n",
    "    print(data)\n",
    "    print('hello')\n",
    "    val_1 = data['uniswapFactory']['totalLiquidityUSD']\n",
    "    val_2 = data['uniswapFactory']['totalVolumeUSD']\n",
    "    val_3 = data['uniswapFactory']['txCount']\n",
    "    liquidity.insert(0, float(val_1))\n",
    "    volumecheck.append(float(val_2))\n",
    "    transactions.append(float(val_3))\n",
    "    count=count-1000\n",
    "#Uniswap V2 contract = 0x5C69bEe701ef814a2B6a3EDD4B1652CB9cc5aA6f"
   ]
  },
  {
   "cell_type": "code",
   "execution_count": 7,
   "id": "19736ea7",
   "metadata": {},
   "outputs": [
    {
     "name": "stdout",
     "output_type": "stream",
     "text": [
      "[3328232968.707096, 3340317189.7901344, 3343311115.7662024, 3322654891.001432, 3287652062.667633, 3266161285.3733935, 3286684309.522151, 3292707859.65119, 3310371966.5423737, 3296575637.752872, 3289315582.951318, 3273556685.2204566, 3229721389.37854, 3194248968.7229958, 3165732164.9481854, 3195533754.87635, 3184057537.622968, 3199541216.880352, 3187696482.1860557, 3099623851.698782, 3098644343.3771596, 3049108617.7176027, 2067006841.4017155, 1946315966.6118042, 1818425905.0912156, 1737788021.4721658, 1811649153.462412, 1811649153.462412]\n",
      "[35049599668.73876, 34974884910.305374, 34935026310.9497, 34898186686.03001, 34860103490.64489, 34735400449.66558, 34691965406.807, 34623574786.188736, 34576162627.54394, 34548235524.611496, 34509543684.42521, 34476007036.39205, 34433658518.58281, 34394289920.97226, 34342551787.167274, 34314000675.462303, 34286867957.31365, 34263534592.01088, 34239699692.49186, 34217737899.599747, 34174845172.91054, 33952974779.811222, 33916619036.34685, 33883515781.18442, 33859667859.164356, 33820096541.458965, 33778693576.400703]\n",
      "[17598124.0, 17573468.0, 17551293.0, 17529991.0, 17509354.0, 17485306.0, 17460466.0, 17435907.0, 17412433.0, 17393307.0, 17372042.0, 17351523.0, 17326814.0, 17302713.0, 17276863.0, 17256434.0, 17237651.0, 17218761.0, 17199806.0, 17179387.0, 17155655.0, 17132816.0, 17115127.0, 17100005.0, 17086380.0, 17063979.0, 17039084.0]\n"
     ]
    }
   ],
   "source": [
    "#data = client.execute(query)\n",
    "print(liquidity)\n",
    "print(volumecheck)\n",
    "print(transactions)"
   ]
  },
  {
   "cell_type": "code",
   "execution_count": 8,
   "id": "7ed798cb",
   "metadata": {},
   "outputs": [],
   "source": [
    "import numpy as np\n",
    "import pandas as pd"
   ]
  },
  {
   "cell_type": "code",
   "execution_count": 9,
   "id": "cc537471",
   "metadata": {},
   "outputs": [],
   "source": [
    "import matplotlib.pyplot as plt"
   ]
  },
  {
   "cell_type": "code",
   "execution_count": 10,
   "id": "372cbd72",
   "metadata": {},
   "outputs": [
    {
     "name": "stdout",
     "output_type": "stream",
     "text": [
      "<class 'pandas.core.frame.DataFrame'>\n",
      "Index: 4 entries, totalLiquidityETH to txCount\n",
      "Data columns (total 1 columns):\n",
      " #   Column          Non-Null Count  Dtype \n",
      "---  ------          --------------  ----- \n",
      " 0   uniswapFactory  4 non-null      object\n",
      "dtypes: object(1)\n",
      "memory usage: 64.0+ bytes\n",
      "None\n",
      "                                        uniswapFactory\n",
      "totalLiquidityETH  7098175.127982260102346545541858265\n",
      "totalLiquidityUSD  3328232968.707095905815088957839271\n",
      "totalVolumeUSD     33778693576.40070351318113153093614\n",
      "txCount                                       17039084\n"
     ]
    }
   ],
   "source": [
    "df = pd.DataFrame(data)\n",
    "print(df.info())\n",
    "print(df.head())"
   ]
  },
  {
   "cell_type": "code",
   "execution_count": 11,
   "id": "9ef9ecd1",
   "metadata": {},
   "outputs": [],
   "source": [
    "df.uniswapFactory = df.uniswapFactory.fillna({i: {} for i in df.index})\n",
    "#df.uniswapFactory = df.uniswapFactory.apply(literal_eval)"
   ]
  },
  {
   "cell_type": "code",
   "execution_count": 12,
   "id": "32330740",
   "metadata": {},
   "outputs": [
    {
     "name": "stdout",
     "output_type": "stream",
     "text": [
      "                                        uniswapFactory\n",
      "totalLiquidityETH  7098175.127982260102346545541858265\n",
      "totalLiquidityUSD  3328232968.707095905815088957839271\n",
      "totalVolumeUSD     33778693576.40070351318113153093614\n",
      "txCount                                       17039084\n"
     ]
    }
   ],
   "source": [
    "print(df)"
   ]
  },
  {
   "cell_type": "code",
   "execution_count": 15,
   "id": "4fd95282",
   "metadata": {},
   "outputs": [],
   "source": [
    "import numpy as np\n",
    "import plotly.graph_objects as go\n",
    "from plotly.subplots import make_subplots\n",
    "import matplotlib as plt\n",
    "import matplotlib.pyplot as plt"
   ]
  },
  {
   "cell_type": "code",
   "execution_count": null,
   "id": "08bc85e0",
   "metadata": {},
   "outputs": [],
   "source": []
  },
  {
   "cell_type": "code",
   "execution_count": 16,
   "id": "2a4203e2",
   "metadata": {},
   "outputs": [
    {
     "ename": "ValueError",
     "evalue": "arrays must all be same length",
     "output_type": "error",
     "traceback": [
      "\u001b[0;31m---------------------------------------------------------------------------\u001b[0m",
      "\u001b[0;31mValueError\u001b[0m                                Traceback (most recent call last)",
      "\u001b[0;32m<ipython-input-16-7b72830dab11>\u001b[0m in \u001b[0;36m<module>\u001b[0;34m\u001b[0m\n\u001b[0;32m----> 1\u001b[0;31m \u001b[0mcummulative_list\u001b[0m \u001b[0;34m=\u001b[0m \u001b[0mpd\u001b[0m\u001b[0;34m.\u001b[0m\u001b[0mDataFrame\u001b[0m\u001b[0;34m(\u001b[0m\u001b[0;34m{\u001b[0m\u001b[0;34m'Liquidity'\u001b[0m\u001b[0;34m:\u001b[0m\u001b[0mliquidity\u001b[0m\u001b[0;34m,\u001b[0m\u001b[0;34m'Volume'\u001b[0m\u001b[0;34m:\u001b[0m\u001b[0mvolumecheck\u001b[0m\u001b[0;34m,\u001b[0m\u001b[0;34m'Transactions'\u001b[0m\u001b[0;34m:\u001b[0m\u001b[0mtransactions\u001b[0m\u001b[0;34m}\u001b[0m\u001b[0;34m)\u001b[0m\u001b[0;34m\u001b[0m\u001b[0;34m\u001b[0m\u001b[0m\n\u001b[0m\u001b[1;32m      2\u001b[0m \u001b[0mprint\u001b[0m\u001b[0;34m(\u001b[0m\u001b[0mcummulative_list\u001b[0m\u001b[0;34m)\u001b[0m\u001b[0;34m\u001b[0m\u001b[0;34m\u001b[0m\u001b[0m\n",
      "\u001b[0;32m/usr/local/lib/python3.8/site-packages/pandas/core/frame.py\u001b[0m in \u001b[0;36m__init__\u001b[0;34m(self, data, index, columns, dtype, copy)\u001b[0m\n\u001b[1;32m    527\u001b[0m \u001b[0;34m\u001b[0m\u001b[0m\n\u001b[1;32m    528\u001b[0m         \u001b[0;32melif\u001b[0m \u001b[0misinstance\u001b[0m\u001b[0;34m(\u001b[0m\u001b[0mdata\u001b[0m\u001b[0;34m,\u001b[0m \u001b[0mdict\u001b[0m\u001b[0;34m)\u001b[0m\u001b[0;34m:\u001b[0m\u001b[0;34m\u001b[0m\u001b[0;34m\u001b[0m\u001b[0m\n\u001b[0;32m--> 529\u001b[0;31m             \u001b[0mmgr\u001b[0m \u001b[0;34m=\u001b[0m \u001b[0minit_dict\u001b[0m\u001b[0;34m(\u001b[0m\u001b[0mdata\u001b[0m\u001b[0;34m,\u001b[0m \u001b[0mindex\u001b[0m\u001b[0;34m,\u001b[0m \u001b[0mcolumns\u001b[0m\u001b[0;34m,\u001b[0m \u001b[0mdtype\u001b[0m\u001b[0;34m=\u001b[0m\u001b[0mdtype\u001b[0m\u001b[0;34m)\u001b[0m\u001b[0;34m\u001b[0m\u001b[0;34m\u001b[0m\u001b[0m\n\u001b[0m\u001b[1;32m    530\u001b[0m         \u001b[0;32melif\u001b[0m \u001b[0misinstance\u001b[0m\u001b[0;34m(\u001b[0m\u001b[0mdata\u001b[0m\u001b[0;34m,\u001b[0m \u001b[0mma\u001b[0m\u001b[0;34m.\u001b[0m\u001b[0mMaskedArray\u001b[0m\u001b[0;34m)\u001b[0m\u001b[0;34m:\u001b[0m\u001b[0;34m\u001b[0m\u001b[0;34m\u001b[0m\u001b[0m\n\u001b[1;32m    531\u001b[0m             \u001b[0;32mimport\u001b[0m \u001b[0mnumpy\u001b[0m\u001b[0;34m.\u001b[0m\u001b[0mma\u001b[0m\u001b[0;34m.\u001b[0m\u001b[0mmrecords\u001b[0m \u001b[0;32mas\u001b[0m \u001b[0mmrecords\u001b[0m\u001b[0;34m\u001b[0m\u001b[0;34m\u001b[0m\u001b[0m\n",
      "\u001b[0;32m/usr/local/lib/python3.8/site-packages/pandas/core/internals/construction.py\u001b[0m in \u001b[0;36minit_dict\u001b[0;34m(data, index, columns, dtype)\u001b[0m\n\u001b[1;32m    285\u001b[0m             \u001b[0marr\u001b[0m \u001b[0;32mif\u001b[0m \u001b[0;32mnot\u001b[0m \u001b[0mis_datetime64tz_dtype\u001b[0m\u001b[0;34m(\u001b[0m\u001b[0marr\u001b[0m\u001b[0;34m)\u001b[0m \u001b[0;32melse\u001b[0m \u001b[0marr\u001b[0m\u001b[0;34m.\u001b[0m\u001b[0mcopy\u001b[0m\u001b[0;34m(\u001b[0m\u001b[0;34m)\u001b[0m \u001b[0;32mfor\u001b[0m \u001b[0marr\u001b[0m \u001b[0;32min\u001b[0m \u001b[0marrays\u001b[0m\u001b[0;34m\u001b[0m\u001b[0;34m\u001b[0m\u001b[0m\n\u001b[1;32m    286\u001b[0m         ]\n\u001b[0;32m--> 287\u001b[0;31m     \u001b[0;32mreturn\u001b[0m \u001b[0marrays_to_mgr\u001b[0m\u001b[0;34m(\u001b[0m\u001b[0marrays\u001b[0m\u001b[0;34m,\u001b[0m \u001b[0mdata_names\u001b[0m\u001b[0;34m,\u001b[0m \u001b[0mindex\u001b[0m\u001b[0;34m,\u001b[0m \u001b[0mcolumns\u001b[0m\u001b[0;34m,\u001b[0m \u001b[0mdtype\u001b[0m\u001b[0;34m=\u001b[0m\u001b[0mdtype\u001b[0m\u001b[0;34m)\u001b[0m\u001b[0;34m\u001b[0m\u001b[0;34m\u001b[0m\u001b[0m\n\u001b[0m\u001b[1;32m    288\u001b[0m \u001b[0;34m\u001b[0m\u001b[0m\n\u001b[1;32m    289\u001b[0m \u001b[0;34m\u001b[0m\u001b[0m\n",
      "\u001b[0;32m/usr/local/lib/python3.8/site-packages/pandas/core/internals/construction.py\u001b[0m in \u001b[0;36marrays_to_mgr\u001b[0;34m(arrays, arr_names, index, columns, dtype, verify_integrity)\u001b[0m\n\u001b[1;32m     78\u001b[0m         \u001b[0;31m# figure out the index, if necessary\u001b[0m\u001b[0;34m\u001b[0m\u001b[0;34m\u001b[0m\u001b[0;34m\u001b[0m\u001b[0m\n\u001b[1;32m     79\u001b[0m         \u001b[0;32mif\u001b[0m \u001b[0mindex\u001b[0m \u001b[0;32mis\u001b[0m \u001b[0;32mNone\u001b[0m\u001b[0;34m:\u001b[0m\u001b[0;34m\u001b[0m\u001b[0;34m\u001b[0m\u001b[0m\n\u001b[0;32m---> 80\u001b[0;31m             \u001b[0mindex\u001b[0m \u001b[0;34m=\u001b[0m \u001b[0mextract_index\u001b[0m\u001b[0;34m(\u001b[0m\u001b[0marrays\u001b[0m\u001b[0;34m)\u001b[0m\u001b[0;34m\u001b[0m\u001b[0;34m\u001b[0m\u001b[0m\n\u001b[0m\u001b[1;32m     81\u001b[0m         \u001b[0;32melse\u001b[0m\u001b[0;34m:\u001b[0m\u001b[0;34m\u001b[0m\u001b[0;34m\u001b[0m\u001b[0m\n\u001b[1;32m     82\u001b[0m             \u001b[0mindex\u001b[0m \u001b[0;34m=\u001b[0m \u001b[0mensure_index\u001b[0m\u001b[0;34m(\u001b[0m\u001b[0mindex\u001b[0m\u001b[0;34m)\u001b[0m\u001b[0;34m\u001b[0m\u001b[0;34m\u001b[0m\u001b[0m\n",
      "\u001b[0;32m/usr/local/lib/python3.8/site-packages/pandas/core/internals/construction.py\u001b[0m in \u001b[0;36mextract_index\u001b[0;34m(data)\u001b[0m\n\u001b[1;32m    399\u001b[0m             \u001b[0mlengths\u001b[0m \u001b[0;34m=\u001b[0m \u001b[0mlist\u001b[0m\u001b[0;34m(\u001b[0m\u001b[0mset\u001b[0m\u001b[0;34m(\u001b[0m\u001b[0mraw_lengths\u001b[0m\u001b[0;34m)\u001b[0m\u001b[0;34m)\u001b[0m\u001b[0;34m\u001b[0m\u001b[0;34m\u001b[0m\u001b[0m\n\u001b[1;32m    400\u001b[0m             \u001b[0;32mif\u001b[0m \u001b[0mlen\u001b[0m\u001b[0;34m(\u001b[0m\u001b[0mlengths\u001b[0m\u001b[0;34m)\u001b[0m \u001b[0;34m>\u001b[0m \u001b[0;36m1\u001b[0m\u001b[0;34m:\u001b[0m\u001b[0;34m\u001b[0m\u001b[0;34m\u001b[0m\u001b[0m\n\u001b[0;32m--> 401\u001b[0;31m                 \u001b[0;32mraise\u001b[0m \u001b[0mValueError\u001b[0m\u001b[0;34m(\u001b[0m\u001b[0;34m\"arrays must all be same length\"\u001b[0m\u001b[0;34m)\u001b[0m\u001b[0;34m\u001b[0m\u001b[0;34m\u001b[0m\u001b[0m\n\u001b[0m\u001b[1;32m    402\u001b[0m \u001b[0;34m\u001b[0m\u001b[0m\n\u001b[1;32m    403\u001b[0m             \u001b[0;32mif\u001b[0m \u001b[0mhave_dicts\u001b[0m\u001b[0;34m:\u001b[0m\u001b[0;34m\u001b[0m\u001b[0;34m\u001b[0m\u001b[0m\n",
      "\u001b[0;31mValueError\u001b[0m: arrays must all be same length"
     ]
    }
   ],
   "source": [
    "cummulative_list = pd.DataFrame({'Liquidity':liquidity,'Volume':volumecheck,'Transactions':transactions})\n",
    "print(cummulative_list)"
   ]
  },
  {
   "cell_type": "code",
   "execution_count": 201,
   "id": "76d9b6a7",
   "metadata": {},
   "outputs": [
    {
     "name": "stdout",
     "output_type": "stream",
     "text": [
      "       Liquidity                               Volume Transactions  \\\n",
      "0   3.328233e+09  35049599668.73876561807658387583774     17598124   \n",
      "1   3.340317e+09  34974884910.30537389104559487914776     17573468   \n",
      "2   3.343311e+09  34935026310.94969831351041433894119     17551293   \n",
      "3   3.322655e+09  34898186686.03000848704017882875448     17529991   \n",
      "4   3.287652e+09  34860103490.64489060559361355400437     17509354   \n",
      "5   3.266161e+09  34735400449.66557918176144571456112     17485306   \n",
      "6   3.286684e+09  34691965406.80699903113092844126528     17460466   \n",
      "7   3.292708e+09  34623574786.18873968928648558573194     17435907   \n",
      "8   3.310372e+09  34576162627.54393834098831740846602     17412433   \n",
      "9   3.296576e+09  34548235524.61149726292489347571367     17393307   \n",
      "10  3.289316e+09  34509543684.42520669234667088164901     17372042   \n",
      "11  3.273557e+09  34476007036.39204985821628451607563     17351523   \n",
      "12  3.229721e+09  34433658518.58281200981106943139854     17326814   \n",
      "13  3.194249e+09  34394289920.97225826851531504768928     17302713   \n",
      "14  3.165732e+09   34342551787.1672741369660075478566     17276863   \n",
      "15  3.195534e+09  34314000675.46230136142781228285534     17256434   \n",
      "16  3.184058e+09   34286867957.3136479184083126682631     17237651   \n",
      "17  3.199541e+09   34263534592.0108789964973096534464     17218761   \n",
      "18  3.187696e+09  34239699692.49185939776814172531423     17199806   \n",
      "19  3.099624e+09  34217737899.59974573364786448517121     17179387   \n",
      "20  3.098644e+09  34174845172.91054265287794649823202     17155655   \n",
      "21  3.049109e+09  33952974779.81122026757901222454549     17132816   \n",
      "22  2.067007e+09  33916619036.34685063734895158432767     17115127   \n",
      "23  1.946316e+09  33883515781.18442020278236209385749     17100005   \n",
      "24  1.818426e+09  33859667859.16435695758185766654573     17086380   \n",
      "25  1.737788e+09  33820096541.45896613741298270839377     17063979   \n",
      "26  1.811649e+09  33778693576.40070351318113153093614     17039084   \n",
      "\n",
      "         cum_sum  check  Moving Average  Rolling Mean  \n",
      "0   3.328233e+09      1    3.328233e+09           NaN  \n",
      "1   6.668550e+09      2    3.334275e+09           NaN  \n",
      "2   1.001186e+10      3    3.337287e+09  3.337287e+09  \n",
      "3   1.333452e+10      4    3.333629e+09  3.335428e+09  \n",
      "4   1.662217e+10      5    3.324434e+09  3.317873e+09  \n",
      "5   1.988833e+10      6    3.314722e+09  3.292156e+09  \n",
      "6   2.317501e+10      7    3.310716e+09  3.280166e+09  \n",
      "7   2.646772e+10      8    3.308465e+09  3.281851e+09  \n",
      "8   2.977809e+10      9    3.308677e+09  3.296588e+09  \n",
      "9   3.307467e+10     10    3.307467e+09  3.299885e+09  \n",
      "10  3.636398e+10     11    3.305817e+09  3.298754e+09  \n",
      "11  3.963754e+10     12    3.303128e+09  3.286483e+09  \n",
      "12  4.286726e+10     13    3.297482e+09  3.264198e+09  \n",
      "13  4.606151e+10     14    3.290108e+09  3.232509e+09  \n",
      "14  4.922724e+10     15    3.281816e+09  3.196568e+09  \n",
      "15  5.242278e+10     16    3.276424e+09  3.185172e+09  \n",
      "16  5.560684e+10     17    3.270990e+09  3.181774e+09  \n",
      "17  5.880638e+10     18    3.267021e+09  3.193044e+09  \n",
      "18  6.199407e+10     19    3.262846e+09  3.190432e+09  \n",
      "19  6.509370e+10     20    3.254685e+09  3.162287e+09  \n",
      "20  6.819234e+10     21    3.247254e+09  3.128655e+09  \n",
      "21  7.124145e+10     22    3.238248e+09  3.082459e+09  \n",
      "22  7.330846e+10     23    3.187324e+09  2.738253e+09  \n",
      "23  7.525477e+10     24    3.135616e+09  2.354144e+09  \n",
      "24  7.707320e+10     25    3.082928e+09  1.943916e+09  \n",
      "25  7.881099e+10     26    3.031192e+09  1.834177e+09  \n",
      "26  8.062264e+10     27    2.986024e+09  1.789288e+09  \n"
     ]
    }
   ],
   "source": [
    "cummulative_list['cum_sum'] = cummulative_list['Liquidity'].cumsum()\n",
    "cummulative_list['check'] = range(1,len(cummulative_list['Liquidity'])+1)\n",
    "cummulative_list['Liquidity'] = pd.to_numeric(cummulative_list['Liquidity'])\n",
    "cummulative_list['Moving Average'] = cummulative_list['cum_sum'] / cummulative_list['check']\n",
    "cummulative_list['Rolling Mean'] = cummulative_list['Liquidity'].rolling(window = 3).mean()\n",
    "print(cummulative_list)\n",
    "#the difference in the moving averga and the rolling mean comes into play because for rolling mean we consider a window of 3\n",
    "#wheras for moving average no such window is seen"
   ]
  },
  {
   "cell_type": "code",
   "execution_count": 215,
   "id": "053a9b40",
   "metadata": {},
   "outputs": [
    {
     "data": {
      "text/plain": [
       "[<matplotlib.lines.Line2D at 0x1185c9f10>]"
      ]
     },
     "execution_count": 215,
     "metadata": {},
     "output_type": "execute_result"
    },
    {
     "data": {
      "image/png": "[encoded data removed]",
      "text/plain": [
       "<Figure size 432x288 with 1 Axes>"
      ]
     },
     "metadata": {
      "needs_background": "light"
     },
     "output_type": "display_data"
    }
   ],
   "source": [
    "#plt.plot(cummulative_list['Liquidity'],cummulative_list['Rolling Mean'])\n",
    "#plt.plot(cummulative_list['Rolling Mean'],cummulative_list['Moving Average'])\n",
    "plt.plot(cummulative_list['Liquidity'],cummulative_list['Transactions'])\n",
    "#the relation between the transactions and the liquidity for the uniswap-v2 pool"
   ]
  },
  {
   "cell_type": "code",
   "execution_count": 212,
   "id": "02ec35ee",
   "metadata": {
    "scrolled": true
   },
   "outputs": [
    {
     "data": {
      "text/plain": [
       "[<matplotlib.lines.Line2D at 0x1183b2790>]"
      ]
     },
     "execution_count": 212,
     "metadata": {},
     "output_type": "execute_result"
    },
    {
     "data": {
      "image/png": "[encoded data removed]",
      "text/plain": [
       "<Figure size 432x288 with 1 Axes>"
      ]
     },
     "metadata": {
      "needs_background": "light"
     },
     "output_type": "display_data"
    }
   ],
   "source": [
    "plt.plot(cummulative_list['Transactions'],cummulative_list['Volume'])\n"
   ]
  },
  {
   "cell_type": "code",
   "execution_count": 172,
   "id": "cc683779",
   "metadata": {},
   "outputs": [],
   "source": []
  },
  {
   "cell_type": "code",
   "execution_count": null,
   "id": "e3a2e412",
   "metadata": {},
   "outputs": [],
   "source": []
  },
  {
   "cell_type": "code",
   "execution_count": 173,
   "id": "31bfb25d",
   "metadata": {},
   "outputs": [
    {
     "data": {
      "application/vnd.plotly.v1+json": {
       "config": {
        "plotlyServerURL": "https://plot.ly"
       },
       "data": [
        {
         "name": "Liquidity",
         "type": "scatter",
         "x": [
          0,
          1,
          2,
          3,
          4,
          5,
          6,
          7,
          8,
          9,
          10,
          11,
          12,
          13,
          14,
          15,
          16,
          17,
          18,
          19,
          20,
          21,
          22,
          23,
          24,
          25,
          26
         ],
         "xaxis": "x",
         "y": [
          "3328232968.707095905815088957839271",
          "3340317189.790134272693096485890519",
          "3343311115.76620244402073705304284",
          "3322654891.001432151669985474006094",
          "3287652062.667633221579972784155343",
          "3266161285.373393579908784009986331",
          "3286684309.522150848883781165232213",
          "3292707859.6511898928082470191976",
          "3310371966.542373688699035122892458",
          "3296575637.752871834891902674250602",
          "3289315582.95131770775678398801662",
          "3273556685.22045652810339566540544",
          "3229721389.378540238255445597419812",
          "3194248968.722995835472160750936321",
          "3165732164.948185437494642364698308",
          "3195533754.876350070399691357075604",
          "3184057537.622968210229389761448174",
          "3199541216.880352214776142914460972",
          "3187696482.1860555116251176434976",
          "3099623851.698781987822800455188154",
          "3098644343.377159594482913291187239",
          "3049108617.717602659383768654230183",
          "2067006841.401715398844368548139851",
          "1946315966.611804296268358305155124",
          "1818425905.091215582617297956159227",
          "1737788021.472165726897644996532261",
          "1811649153.462412111578968988717799"
         ],
         "yaxis": "y"
        },
        {
         "name": "Volume",
         "type": "scatter",
         "x": [
          0,
          1,
          2,
          3,
          4,
          5,
          6,
          7,
          8,
          9,
          10,
          11,
          12,
          13,
          14,
          15,
          16,
          17,
          18,
          19,
          20,
          21,
          22,
          23,
          24,
          25,
          26
         ],
         "xaxis": "x",
         "y": [
          "35049599668.73876561807658387583774",
          "34974884910.30537389104559487914776",
          "34935026310.94969831351041433894119",
          "34898186686.03000848704017882875448",
          "34860103490.64489060559361355400437",
          "34735400449.66557918176144571456112",
          "34691965406.80699903113092844126528",
          "34623574786.18873968928648558573194",
          "34576162627.54393834098831740846602",
          "34548235524.61149726292489347571367",
          "34509543684.42520669234667088164901",
          "34476007036.39204985821628451607563",
          "34433658518.58281200981106943139854",
          "34394289920.97225826851531504768928",
          "34342551787.1672741369660075478566",
          "34314000675.46230136142781228285534",
          "34286867957.3136479184083126682631",
          "34263534592.0108789964973096534464",
          "34239699692.49185939776814172531423",
          "34217737899.59974573364786448517121",
          "34174845172.91054265287794649823202",
          "33952974779.81122026757901222454549",
          "33916619036.34685063734895158432767",
          "33883515781.18442020278236209385749",
          "33859667859.16435695758185766654573",
          "33820096541.45896613741298270839377",
          "33778693576.40070351318113153093614"
         ],
         "yaxis": "y2"
        }
       ],
       "layout": {
        "template": {
         "data": {
          "bar": [
           {
            "error_x": {
             "color": "#2a3f5f"
            },
            "error_y": {
             "color": "#2a3f5f"
            },
            "marker": {
             "line": {
              "color": "#E5ECF6",
              "width": 0.5
             }
            },
            "type": "bar"
           }
          ],
          "barpolar": [
           {
            "marker": {
             "line": {
              "color": "#E5ECF6",
              "width": 0.5
             }
            },
            "type": "barpolar"
           }
          ],
          "carpet": [
           {
            "aaxis": {
             "endlinecolor": "#2a3f5f",
             "gridcolor": "white",
             "linecolor": "white",
             "minorgridcolor": "white",
             "startlinecolor": "#2a3f5f"
            },
            "baxis": {
             "endlinecolor": "#2a3f5f",
             "gridcolor": "white",
             "linecolor": "white",
             "minorgridcolor": "white",
             "startlinecolor": "#2a3f5f"
            },
            "type": "carpet"
           }
          ],
          "choropleth": [
           {
            "colorbar": {
             "outlinewidth": 0,
             "ticks": ""
            },
            "type": "choropleth"
           }
          ],
          "contour": [
           {
            "colorbar": {
             "outlinewidth": 0,
             "ticks": ""
            },
            "colorscale": [
             [
              0,
              "#0d0887"
             ],
             [
              0.1111111111111111,
              "#46039f"
             ],
             [
              0.2222222222222222,
              "#7201a8"
             ],
             [
              0.3333333333333333,
              "#9c179e"
             ],
             [
              0.4444444444444444,
              "#bd3786"
             ],
             [
              0.5555555555555556,
              "#d8576b"
             ],
             [
              0.6666666666666666,
              "#ed7953"
             ],
             [
              0.7777777777777778,
              "#fb9f3a"
             ],
             [
              0.8888888888888888,
              "#fdca26"
             ],
             [
              1,
              "#f0f921"
             ]
            ],
            "type": "contour"
           }
          ],
          "contourcarpet": [
           {
            "colorbar": {
             "outlinewidth": 0,
             "ticks": ""
            },
            "type": "contourcarpet"
           }
          ],
          "heatmap": [
           {
            "colorbar": {
             "outlinewidth": 0,
             "ticks": ""
            },
            "colorscale": [
             [
              0,
              "#0d0887"
             ],
             [
              0.1111111111111111,
              "#46039f"
             ],
             [
              0.2222222222222222,
              "#7201a8"
             ],
             [
              0.3333333333333333,
              "#9c179e"
             ],
             [
              0.4444444444444444,
              "#bd3786"
             ],
             [
              0.5555555555555556,
              "#d8576b"
             ],
             [
              0.6666666666666666,
              "#ed7953"
             ],
             [
              0.7777777777777778,
              "#fb9f3a"
             ],
             [
              0.8888888888888888,
              "#fdca26"
             ],
             [
              1,
              "#f0f921"
             ]
            ],
            "type": "heatmap"
           }
          ],
          "heatmapgl": [
           {
            "colorbar": {
             "outlinewidth": 0,
             "ticks": ""
            },
            "colorscale": [
             [
              0,
              "#0d0887"
             ],
             [
              0.1111111111111111,
              "#46039f"
             ],
             [
              0.2222222222222222,
              "#7201a8"
             ],
             [
              0.3333333333333333,
              "#9c179e"
             ],
             [
              0.4444444444444444,
              "#bd3786"
             ],
             [
              0.5555555555555556,
              "#d8576b"
             ],
             [
              0.6666666666666666,
              "#ed7953"
             ],
             [
              0.7777777777777778,
              "#fb9f3a"
             ],
             [
              0.8888888888888888,
              "#fdca26"
             ],
             [
              1,
              "#f0f921"
             ]
            ],
            "type": "heatmapgl"
           }
          ],
          "histogram": [
           {
            "marker": {
             "colorbar": {
              "outlinewidth": 0,
              "ticks": ""
             }
            },
            "type": "histogram"
           }
          ],
          "histogram2d": [
           {
            "colorbar": {
             "outlinewidth": 0,
             "ticks": ""
            },
            "colorscale": [
             [
              0,
              "#0d0887"
             ],
             [
              0.1111111111111111,
              "#46039f"
             ],
             [
              0.2222222222222222,
              "#7201a8"
             ],
             [
              0.3333333333333333,
              "#9c179e"
             ],
             [
              0.4444444444444444,
              "#bd3786"
             ],
             [
              0.5555555555555556,
              "#d8576b"
             ],
             [
              0.6666666666666666,
              "#ed7953"
             ],
             [
              0.7777777777777778,
              "#fb9f3a"
             ],
             [
              0.8888888888888888,
              "#fdca26"
             ],
             [
              1,
              "#f0f921"
             ]
            ],
            "type": "histogram2d"
           }
          ],
          "histogram2dcontour": [
           {
            "colorbar": {
             "outlinewidth": 0,
             "ticks": ""
            },
            "colorscale": [
             [
              0,
              "#0d0887"
             ],
             [
              0.1111111111111111,
              "#46039f"
             ],
             [
              0.2222222222222222,
              "#7201a8"
             ],
             [
              0.3333333333333333,
              "#9c179e"
             ],
             [
              0.4444444444444444,
              "#bd3786"
             ],
             [
              0.5555555555555556,
              "#d8576b"
             ],
             [
              0.6666666666666666,
              "#ed7953"
             ],
             [
              0.7777777777777778,
              "#fb9f3a"
             ],
             [
              0.8888888888888888,
              "#fdca26"
             ],
             [
              1,
              "#f0f921"
             ]
            ],
            "type": "histogram2dcontour"
           }
          ],
          "mesh3d": [
           {
            "colorbar": {
             "outlinewidth": 0,
             "ticks": ""
            },
            "type": "mesh3d"
           }
          ],
          "parcoords": [
           {
            "line": {
             "colorbar": {
              "outlinewidth": 0,
              "ticks": ""
             }
            },
            "type": "parcoords"
           }
          ],
          "pie": [
           {
            "automargin": true,
            "type": "pie"
           }
          ],
          "scatter": [
           {
            "marker": {
             "colorbar": {
              "outlinewidth": 0,
              "ticks": ""
             }
            },
            "type": "scatter"
           }
          ],
          "scatter3d": [
           {
            "line": {
             "colorbar": {
              "outlinewidth": 0,
              "ticks": ""
             }
            },
            "marker": {
             "colorbar": {
              "outlinewidth": 0,
              "ticks": ""
             }
            },
            "type": "scatter3d"
           }
          ],
          "scattercarpet": [
           {
            "marker": {
             "colorbar": {
              "outlinewidth": 0,
              "ticks": ""
             }
            },
            "type": "scattercarpet"
           }
          ],
          "scattergeo": [
           {
            "marker": {
             "colorbar": {
              "outlinewidth": 0,
              "ticks": ""
             }
            },
            "type": "scattergeo"
           }
          ],
          "scattergl": [
           {
            "marker": {
             "colorbar": {
              "outlinewidth": 0,
              "ticks": ""
             }
            },
            "type": "scattergl"
           }
          ],
          "scattermapbox": [
           {
            "marker": {
             "colorbar": {
              "outlinewidth": 0,
              "ticks": ""
             }
            },
            "type": "scattermapbox"
           }
          ],
          "scatterpolar": [
           {
            "marker": {
             "colorbar": {
              "outlinewidth": 0,
              "ticks": ""
             }
            },
            "type": "scatterpolar"
           }
          ],
          "scatterpolargl": [
           {
            "marker": {
             "colorbar": {
              "outlinewidth": 0,
              "ticks": ""
             }
            },
            "type": "scatterpolargl"
           }
          ],
          "scatterternary": [
           {
            "marker": {
             "colorbar": {
              "outlinewidth": 0,
              "ticks": ""
             }
            },
            "type": "scatterternary"
           }
          ],
          "surface": [
           {
            "colorbar": {
             "outlinewidth": 0,
             "ticks": ""
            },
            "colorscale": [
             [
              0,
              "#0d0887"
             ],
             [
              0.1111111111111111,
              "#46039f"
             ],
             [
              0.2222222222222222,
              "#7201a8"
             ],
             [
              0.3333333333333333,
              "#9c179e"
             ],
             [
              0.4444444444444444,
              "#bd3786"
             ],
             [
              0.5555555555555556,
              "#d8576b"
             ],
             [
              0.6666666666666666,
              "#ed7953"
             ],
             [
              0.7777777777777778,
              "#fb9f3a"
             ],
             [
              0.8888888888888888,
              "#fdca26"
             ],
             [
              1,
              "#f0f921"
             ]
            ],
            "type": "surface"
           }
          ],
          "table": [
           {
            "cells": {
             "fill": {
              "color": "#EBF0F8"
             },
             "line": {
              "color": "white"
             }
            },
            "header": {
             "fill": {
              "color": "#C8D4E3"
             },
             "line": {
              "color": "white"
             }
            },
            "type": "table"
           }
          ]
         },
         "layout": {
          "annotationdefaults": {
           "arrowcolor": "#2a3f5f",
           "arrowhead": 0,
           "arrowwidth": 1
          },
          "autotypenumbers": "strict",
          "coloraxis": {
           "colorbar": {
            "outlinewidth": 0,
            "ticks": ""
           }
          },
          "colorscale": {
           "diverging": [
            [
             0,
             "#8e0152"
            ],
            [
             0.1,
             "#c51b7d"
            ],
            [
             0.2,
             "#de77ae"
            ],
            [
             0.3,
             "#f1b6da"
            ],
            [
             0.4,
             "#fde0ef"
            ],
            [
             0.5,
             "#f7f7f7"
            ],
            [
             0.6,
             "#e6f5d0"
            ],
            [
             0.7,
             "#b8e186"
            ],
            [
             0.8,
             "#7fbc41"
            ],
            [
             0.9,
             "#4d9221"
            ],
            [
             1,
             "#276419"
            ]
           ],
           "sequential": [
            [
             0,
             "#0d0887"
            ],
            [
             0.1111111111111111,
             "#46039f"
            ],
            [
             0.2222222222222222,
             "#7201a8"
            ],
            [
             0.3333333333333333,
             "#9c179e"
            ],
            [
             0.4444444444444444,
             "#bd3786"
            ],
            [
             0.5555555555555556,
             "#d8576b"
            ],
            [
             0.6666666666666666,
             "#ed7953"
            ],
            [
             0.7777777777777778,
             "#fb9f3a"
            ],
            [
             0.8888888888888888,
             "#fdca26"
            ],
            [
             1,
             "#f0f921"
            ]
           ],
           "sequentialminus": [
            [
             0,
             "#0d0887"
            ],
            [
             0.1111111111111111,
             "#46039f"
            ],
            [
             0.2222222222222222,
             "#7201a8"
            ],
            [
             0.3333333333333333,
             "#9c179e"
            ],
            [
             0.4444444444444444,
             "#bd3786"
            ],
            [
             0.5555555555555556,
             "#d8576b"
            ],
            [
             0.6666666666666666,
             "#ed7953"
            ],
            [
             0.7777777777777778,
             "#fb9f3a"
            ],
            [
             0.8888888888888888,
             "#fdca26"
            ],
            [
             1,
             "#f0f921"
            ]
           ]
          },
          "colorway": [
           "#636efa",
           "#EF553B",
           "#00cc96",
           "#ab63fa",
           "#FFA15A",
           "#19d3f3",
           "#FF6692",
           "#B6E880",
           "#FF97FF",
           "#FECB52"
          ],
          "font": {
           "color": "#2a3f5f"
          },
          "geo": {
           "bgcolor": "white",
           "lakecolor": "white",
           "landcolor": "#E5ECF6",
           "showlakes": true,
           "showland": true,
           "subunitcolor": "white"
          },
          "hoverlabel": {
           "align": "left"
          },
          "hovermode": "closest",
          "mapbox": {
           "style": "light"
          },
          "paper_bgcolor": "white",
          "plot_bgcolor": "#E5ECF6",
          "polar": {
           "angularaxis": {
            "gridcolor": "white",
            "linecolor": "white",
            "ticks": ""
           },
           "bgcolor": "#E5ECF6",
           "radialaxis": {
            "gridcolor": "white",
            "linecolor": "white",
            "ticks": ""
           }
          },
          "scene": {
           "xaxis": {
            "backgroundcolor": "#E5ECF6",
            "gridcolor": "white",
            "gridwidth": 2,
            "linecolor": "white",
            "showbackground": true,
            "ticks": "",
            "zerolinecolor": "white"
           },
           "yaxis": {
            "backgroundcolor": "#E5ECF6",
            "gridcolor": "white",
            "gridwidth": 2,
            "linecolor": "white",
            "showbackground": true,
            "ticks": "",
            "zerolinecolor": "white"
           },
           "zaxis": {
            "backgroundcolor": "#E5ECF6",
            "gridcolor": "white",
            "gridwidth": 2,
            "linecolor": "white",
            "showbackground": true,
            "ticks": "",
            "zerolinecolor": "white"
           }
          },
          "shapedefaults": {
           "line": {
            "color": "#2a3f5f"
           }
          },
          "ternary": {
           "aaxis": {
            "gridcolor": "white",
            "linecolor": "white",
            "ticks": ""
           },
           "baxis": {
            "gridcolor": "white",
            "linecolor": "white",
            "ticks": ""
           },
           "bgcolor": "#E5ECF6",
           "caxis": {
            "gridcolor": "white",
            "linecolor": "white",
            "ticks": ""
           }
          },
          "title": {
           "x": 0.05
          },
          "xaxis": {
           "automargin": true,
           "gridcolor": "white",
           "linecolor": "white",
           "ticks": "",
           "title": {
            "standoff": 15
           },
           "zerolinecolor": "white",
           "zerolinewidth": 2
          },
          "yaxis": {
           "automargin": true,
           "gridcolor": "white",
           "linecolor": "white",
           "ticks": "",
           "title": {
            "standoff": 15
           },
           "zerolinecolor": "white",
           "zerolinewidth": 2
          }
         }
        },
        "title": {
         "text": "Uniswap Liquidity vs Volume"
        },
        "xaxis": {
         "anchor": "y",
         "domain": [
          0,
          0.94
         ],
         "title": {
          "text": "Blocks"
         }
        },
        "yaxis": {
         "anchor": "x",
         "domain": [
          0,
          1
         ],
         "title": {
          "text": "Liquidity"
         }
        },
        "yaxis2": {
         "anchor": "x",
         "overlaying": "y",
         "side": "right",
         "title": {
          "text": "Volume"
         }
        }
       }
      },
      "text/html": [
       "<div>                            <div id=\"0f29fdd2-fab9-444e-9c22-d478b9a1d6b4\" class=\"plotly-graph-div\" style=\"height:525px; width:100%;\"></div>            <script type=\"text/javascript\">                require([\"plotly\"], function(Plotly) {                    window.PLOTLYENV=window.PLOTLYENV || {};                                    if (document.getElementById(\"0f29fdd2-fab9-444e-9c22-d478b9a1d6b4\")) {                    Plotly.newPlot(                        \"0f29fdd2-fab9-444e-9c22-d478b9a1d6b4\",                        [{\"name\": \"Liquidity\", \"type\": \"scatter\", \"x\": [0, 1, 2, 3, 4, 5, 6, 7, 8, 9, 10, 11, 12, 13, 14, 15, 16, 17, 18, 19, 20, 21, 22, 23, 24, 25, 26], \"xaxis\": \"x\", \"y\": [\"3328232968.707095905815088957839271\", \"3340317189.790134272693096485890519\", \"3343311115.76620244402073705304284\", \"3322654891.001432151669985474006094\", \"3287652062.667633221579972784155343\", \"3266161285.373393579908784009986331\", \"3286684309.522150848883781165232213\", \"3292707859.6511898928082470191976\", \"3310371966.542373688699035122892458\", \"3296575637.752871834891902674250602\", \"3289315582.95131770775678398801662\", \"3273556685.22045652810339566540544\", \"3229721389.378540238255445597419812\", \"3194248968.722995835472160750936321\", \"3165732164.948185437494642364698308\", \"3195533754.876350070399691357075604\", \"3184057537.622968210229389761448174\", \"3199541216.880352214776142914460972\", \"3187696482.1860555116251176434976\", \"3099623851.698781987822800455188154\", \"3098644343.377159594482913291187239\", \"3049108617.717602659383768654230183\", \"2067006841.401715398844368548139851\", \"1946315966.611804296268358305155124\", \"1818425905.091215582617297956159227\", \"1737788021.472165726897644996532261\", \"1811649153.462412111578968988717799\"], \"yaxis\": \"y\"}, {\"name\": \"Volume\", \"type\": \"scatter\", \"x\": [0, 1, 2, 3, 4, 5, 6, 7, 8, 9, 10, 11, 12, 13, 14, 15, 16, 17, 18, 19, 20, 21, 22, 23, 24, 25, 26], \"xaxis\": \"x\", \"y\": [\"35049599668.73876561807658387583774\", \"34974884910.30537389104559487914776\", \"34935026310.94969831351041433894119\", \"34898186686.03000848704017882875448\", \"34860103490.64489060559361355400437\", \"34735400449.66557918176144571456112\", \"34691965406.80699903113092844126528\", \"34623574786.18873968928648558573194\", \"34576162627.54393834098831740846602\", \"34548235524.61149726292489347571367\", \"34509543684.42520669234667088164901\", \"34476007036.39204985821628451607563\", \"34433658518.58281200981106943139854\", \"34394289920.97225826851531504768928\", \"34342551787.1672741369660075478566\", \"34314000675.46230136142781228285534\", \"34286867957.3136479184083126682631\", \"34263534592.0108789964973096534464\", \"34239699692.49185939776814172531423\", \"34217737899.59974573364786448517121\", \"34174845172.91054265287794649823202\", \"33952974779.81122026757901222454549\", \"33916619036.34685063734895158432767\", \"33883515781.18442020278236209385749\", \"33859667859.16435695758185766654573\", \"33820096541.45896613741298270839377\", \"33778693576.40070351318113153093614\"], \"yaxis\": \"y2\"}],                        {\"template\": {\"data\": {\"bar\": [{\"error_x\": {\"color\": \"#2a3f5f\"}, \"error_y\": {\"color\": \"#2a3f5f\"}, \"marker\": {\"line\": {\"color\": \"#E5ECF6\", \"width\": 0.5}}, \"type\": \"bar\"}], \"barpolar\": [{\"marker\": {\"line\": {\"color\": \"#E5ECF6\", \"width\": 0.5}}, \"type\": \"barpolar\"}], \"carpet\": [{\"aaxis\": {\"endlinecolor\": \"#2a3f5f\", \"gridcolor\": \"white\", \"linecolor\": \"white\", \"minorgridcolor\": \"white\", \"startlinecolor\": \"#2a3f5f\"}, \"baxis\": {\"endlinecolor\": \"#2a3f5f\", \"gridcolor\": \"white\", \"linecolor\": \"white\", \"minorgridcolor\": \"white\", \"startlinecolor\": \"#2a3f5f\"}, \"type\": \"carpet\"}], \"choropleth\": [{\"colorbar\": {\"outlinewidth\": 0, \"ticks\": \"\"}, \"type\": \"choropleth\"}], \"contour\": [{\"colorbar\": {\"outlinewidth\": 0, \"ticks\": \"\"}, \"colorscale\": [[0.0, \"#0d0887\"], [0.1111111111111111, \"#46039f\"], [0.2222222222222222, \"#7201a8\"], [0.3333333333333333, \"#9c179e\"], [0.4444444444444444, \"#bd3786\"], [0.5555555555555556, \"#d8576b\"], [0.6666666666666666, \"#ed7953\"], [0.7777777777777778, \"#fb9f3a\"], [0.8888888888888888, \"#fdca26\"], [1.0, \"#f0f921\"]], \"type\": \"contour\"}], \"contourcarpet\": [{\"colorbar\": {\"outlinewidth\": 0, \"ticks\": \"\"}, \"type\": \"contourcarpet\"}], \"heatmap\": [{\"colorbar\": {\"outlinewidth\": 0, \"ticks\": \"\"}, \"colorscale\": [[0.0, \"#0d0887\"], [0.1111111111111111, \"#46039f\"], [0.2222222222222222, \"#7201a8\"], [0.3333333333333333, \"#9c179e\"], [0.4444444444444444, \"#bd3786\"], [0.5555555555555556, \"#d8576b\"], [0.6666666666666666, \"#ed7953\"], [0.7777777777777778, \"#fb9f3a\"], [0.8888888888888888, \"#fdca26\"], [1.0, \"#f0f921\"]], \"type\": \"heatmap\"}], \"heatmapgl\": [{\"colorbar\": {\"outlinewidth\": 0, \"ticks\": \"\"}, \"colorscale\": [[0.0, \"#0d0887\"], [0.1111111111111111, \"#46039f\"], [0.2222222222222222, \"#7201a8\"], [0.3333333333333333, \"#9c179e\"], [0.4444444444444444, \"#bd3786\"], [0.5555555555555556, \"#d8576b\"], [0.6666666666666666, \"#ed7953\"], [0.7777777777777778, \"#fb9f3a\"], [0.8888888888888888, \"#fdca26\"], [1.0, \"#f0f921\"]], \"type\": \"heatmapgl\"}], \"histogram\": [{\"marker\": {\"colorbar\": {\"outlinewidth\": 0, \"ticks\": \"\"}}, \"type\": \"histogram\"}], \"histogram2d\": [{\"colorbar\": {\"outlinewidth\": 0, \"ticks\": \"\"}, \"colorscale\": [[0.0, \"#0d0887\"], [0.1111111111111111, \"#46039f\"], [0.2222222222222222, \"#7201a8\"], [0.3333333333333333, \"#9c179e\"], [0.4444444444444444, \"#bd3786\"], [0.5555555555555556, \"#d8576b\"], [0.6666666666666666, \"#ed7953\"], [0.7777777777777778, \"#fb9f3a\"], [0.8888888888888888, \"#fdca26\"], [1.0, \"#f0f921\"]], \"type\": \"histogram2d\"}], \"histogram2dcontour\": [{\"colorbar\": {\"outlinewidth\": 0, \"ticks\": \"\"}, \"colorscale\": [[0.0, \"#0d0887\"], [0.1111111111111111, \"#46039f\"], [0.2222222222222222, \"#7201a8\"], [0.3333333333333333, \"#9c179e\"], [0.4444444444444444, \"#bd3786\"], [0.5555555555555556, \"#d8576b\"], [0.6666666666666666, \"#ed7953\"], [0.7777777777777778, \"#fb9f3a\"], [0.8888888888888888, \"#fdca26\"], [1.0, \"#f0f921\"]], \"type\": \"histogram2dcontour\"}], \"mesh3d\": [{\"colorbar\": {\"outlinewidth\": 0, \"ticks\": \"\"}, \"type\": \"mesh3d\"}], \"parcoords\": [{\"line\": {\"colorbar\": {\"outlinewidth\": 0, \"ticks\": \"\"}}, \"type\": \"parcoords\"}], \"pie\": [{\"automargin\": true, \"type\": \"pie\"}], \"scatter\": [{\"marker\": {\"colorbar\": {\"outlinewidth\": 0, \"ticks\": \"\"}}, \"type\": \"scatter\"}], \"scatter3d\": [{\"line\": {\"colorbar\": {\"outlinewidth\": 0, \"ticks\": \"\"}}, \"marker\": {\"colorbar\": {\"outlinewidth\": 0, \"ticks\": \"\"}}, \"type\": \"scatter3d\"}], \"scattercarpet\": [{\"marker\": {\"colorbar\": {\"outlinewidth\": 0, \"ticks\": \"\"}}, \"type\": \"scattercarpet\"}], \"scattergeo\": [{\"marker\": {\"colorbar\": {\"outlinewidth\": 0, \"ticks\": \"\"}}, \"type\": \"scattergeo\"}], \"scattergl\": [{\"marker\": {\"colorbar\": {\"outlinewidth\": 0, \"ticks\": \"\"}}, \"type\": \"scattergl\"}], \"scattermapbox\": [{\"marker\": {\"colorbar\": {\"outlinewidth\": 0, \"ticks\": \"\"}}, \"type\": \"scattermapbox\"}], \"scatterpolar\": [{\"marker\": {\"colorbar\": {\"outlinewidth\": 0, \"ticks\": \"\"}}, \"type\": \"scatterpolar\"}], \"scatterpolargl\": [{\"marker\": {\"colorbar\": {\"outlinewidth\": 0, \"ticks\": \"\"}}, \"type\": \"scatterpolargl\"}], \"scatterternary\": [{\"marker\": {\"colorbar\": {\"outlinewidth\": 0, \"ticks\": \"\"}}, \"type\": \"scatterternary\"}], \"surface\": [{\"colorbar\": {\"outlinewidth\": 0, \"ticks\": \"\"}, \"colorscale\": [[0.0, \"#0d0887\"], [0.1111111111111111, \"#46039f\"], [0.2222222222222222, \"#7201a8\"], [0.3333333333333333, \"#9c179e\"], [0.4444444444444444, \"#bd3786\"], [0.5555555555555556, \"#d8576b\"], [0.6666666666666666, \"#ed7953\"], [0.7777777777777778, \"#fb9f3a\"], [0.8888888888888888, \"#fdca26\"], [1.0, \"#f0f921\"]], \"type\": \"surface\"}], \"table\": [{\"cells\": {\"fill\": {\"color\": \"#EBF0F8\"}, \"line\": {\"color\": \"white\"}}, \"header\": {\"fill\": {\"color\": \"#C8D4E3\"}, \"line\": {\"color\": \"white\"}}, \"type\": \"table\"}]}, \"layout\": {\"annotationdefaults\": {\"arrowcolor\": \"#2a3f5f\", \"arrowhead\": 0, \"arrowwidth\": 1}, \"autotypenumbers\": \"strict\", \"coloraxis\": {\"colorbar\": {\"outlinewidth\": 0, \"ticks\": \"\"}}, \"colorscale\": {\"diverging\": [[0, \"#8e0152\"], [0.1, \"#c51b7d\"], [0.2, \"#de77ae\"], [0.3, \"#f1b6da\"], [0.4, \"#fde0ef\"], [0.5, \"#f7f7f7\"], [0.6, \"#e6f5d0\"], [0.7, \"#b8e186\"], [0.8, \"#7fbc41\"], [0.9, \"#4d9221\"], [1, \"#276419\"]], \"sequential\": [[0.0, \"#0d0887\"], [0.1111111111111111, \"#46039f\"], [0.2222222222222222, \"#7201a8\"], [0.3333333333333333, \"#9c179e\"], [0.4444444444444444, \"#bd3786\"], [0.5555555555555556, \"#d8576b\"], [0.6666666666666666, \"#ed7953\"], [0.7777777777777778, \"#fb9f3a\"], [0.8888888888888888, \"#fdca26\"], [1.0, \"#f0f921\"]], \"sequentialminus\": [[0.0, \"#0d0887\"], [0.1111111111111111, \"#46039f\"], [0.2222222222222222, \"#7201a8\"], [0.3333333333333333, \"#9c179e\"], [0.4444444444444444, \"#bd3786\"], [0.5555555555555556, \"#d8576b\"], [0.6666666666666666, \"#ed7953\"], [0.7777777777777778, \"#fb9f3a\"], [0.8888888888888888, \"#fdca26\"], [1.0, \"#f0f921\"]]}, \"colorway\": [\"#636efa\", \"#EF553B\", \"#00cc96\", \"#ab63fa\", \"#FFA15A\", \"#19d3f3\", \"#FF6692\", \"#B6E880\", \"#FF97FF\", \"#FECB52\"], \"font\": {\"color\": \"#2a3f5f\"}, \"geo\": {\"bgcolor\": \"white\", \"lakecolor\": \"white\", \"landcolor\": \"#E5ECF6\", \"showlakes\": true, \"showland\": true, \"subunitcolor\": \"white\"}, \"hoverlabel\": {\"align\": \"left\"}, \"hovermode\": \"closest\", \"mapbox\": {\"style\": \"light\"}, \"paper_bgcolor\": \"white\", \"plot_bgcolor\": \"#E5ECF6\", \"polar\": {\"angularaxis\": {\"gridcolor\": \"white\", \"linecolor\": \"white\", \"ticks\": \"\"}, \"bgcolor\": \"#E5ECF6\", \"radialaxis\": {\"gridcolor\": \"white\", \"linecolor\": \"white\", \"ticks\": \"\"}}, \"scene\": {\"xaxis\": {\"backgroundcolor\": \"#E5ECF6\", \"gridcolor\": \"white\", \"gridwidth\": 2, \"linecolor\": \"white\", \"showbackground\": true, \"ticks\": \"\", \"zerolinecolor\": \"white\"}, \"yaxis\": {\"backgroundcolor\": \"#E5ECF6\", \"gridcolor\": \"white\", \"gridwidth\": 2, \"linecolor\": \"white\", \"showbackground\": true, \"ticks\": \"\", \"zerolinecolor\": \"white\"}, \"zaxis\": {\"backgroundcolor\": \"#E5ECF6\", \"gridcolor\": \"white\", \"gridwidth\": 2, \"linecolor\": \"white\", \"showbackground\": true, \"ticks\": \"\", \"zerolinecolor\": \"white\"}}, \"shapedefaults\": {\"line\": {\"color\": \"#2a3f5f\"}}, \"ternary\": {\"aaxis\": {\"gridcolor\": \"white\", \"linecolor\": \"white\", \"ticks\": \"\"}, \"baxis\": {\"gridcolor\": \"white\", \"linecolor\": \"white\", \"ticks\": \"\"}, \"bgcolor\": \"#E5ECF6\", \"caxis\": {\"gridcolor\": \"white\", \"linecolor\": \"white\", \"ticks\": \"\"}}, \"title\": {\"x\": 0.05}, \"xaxis\": {\"automargin\": true, \"gridcolor\": \"white\", \"linecolor\": \"white\", \"ticks\": \"\", \"title\": {\"standoff\": 15}, \"zerolinecolor\": \"white\", \"zerolinewidth\": 2}, \"yaxis\": {\"automargin\": true, \"gridcolor\": \"white\", \"linecolor\": \"white\", \"ticks\": \"\", \"title\": {\"standoff\": 15}, \"zerolinecolor\": \"white\", \"zerolinewidth\": 2}}}, \"title\": {\"text\": \"Uniswap Liquidity vs Volume\"}, \"xaxis\": {\"anchor\": \"y\", \"domain\": [0.0, 0.94], \"title\": {\"text\": \"Blocks\"}}, \"yaxis\": {\"anchor\": \"x\", \"domain\": [0.0, 1.0], \"title\": {\"text\": \"Liquidity\"}}, \"yaxis2\": {\"anchor\": \"x\", \"overlaying\": \"y\", \"side\": \"right\", \"title\": {\"text\": \"Volume\"}}},                        {\"responsive\": true}                    ).then(function(){\n",
       "                            \n",
       "var gd = document.getElementById('0f29fdd2-fab9-444e-9c22-d478b9a1d6b4');\n",
       "var x = new MutationObserver(function (mutations, observer) {{\n",
       "        var display = window.getComputedStyle(gd).display;\n",
       "        if (!display || display === 'none') {{\n",
       "            console.log([gd, 'removed!']);\n",
       "            Plotly.purge(gd);\n",
       "            observer.disconnect();\n",
       "        }}\n",
       "}});\n",
       "\n",
       "// Listen for the removal of the full notebook cells\n",
       "var notebookContainer = gd.closest('#notebook-container');\n",
       "if (notebookContainer) {{\n",
       "    x.observe(notebookContainer, {childList: true});\n",
       "}}\n",
       "\n",
       "// Listen for the clearing of the current output cell\n",
       "var outputEl = gd.closest('.output');\n",
       "if (outputEl) {{\n",
       "    x.observe(outputEl, {childList: true});\n",
       "}}\n",
       "\n",
       "                        })                };                });            </script>        </div>"
      ]
     },
     "metadata": {},
     "output_type": "display_data"
    }
   ],
   "source": []
  },
  {
   "cell_type": "code",
   "execution_count": null,
   "id": "46f62332",
   "metadata": {},
   "outputs": [],
   "source": [
    "\n"
   ]
  },
  {
   "cell_type": "code",
   "execution_count": null,
   "id": "cfbff468",
   "metadata": {},
   "outputs": [],
   "source": []
  }
 ],
 "metadata": {
  "kernelspec": {
   "display_name": "Python 3",
   "language": "python",
   "name": "python3"
  },
  "language_info": {
   "codemirror_mode": {
    "name": "ipython",
    "version": 3
   },
   "file_extension": ".py",
   "mimetype": "text/x-python",
   "name": "python",
   "nbconvert_exporter": "python",
   "pygments_lexer": "ipython3",
   "version": "3.8.7"
  }
 },
 "nbformat": 4,
 "nbformat_minor": 5
}
