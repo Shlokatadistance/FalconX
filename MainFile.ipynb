{
 "cells": [
  {
   "cell_type": "code",
   "execution_count": 23,
   "id": "ba4adf8f",
   "metadata": {},
   "outputs": [],
   "source": [
    "from gql import gql,Client\n",
    "from gql.transport.requests import RequestsHTTPTransport"
   ]
  },
  {
   "cell_type": "code",
   "execution_count": 24,
   "id": "bd7e38c8",
   "metadata": {},
   "outputs": [],
   "source": [
    "sample_transport=RequestsHTTPTransport(\n",
    "    url='https://api.thegraph.com/subgraphs/name/uniswap/uniswap-v2',\n",
    "    verify=True,\n",
    "    retries=5,\n",
    ")"
   ]
  },
  {
   "cell_type": "code",
   "execution_count": 25,
   "id": "81f0454c",
   "metadata": {},
   "outputs": [],
   "source": [
    "client = Client(\n",
    "transport = sample_transport\n",
    ")\n",
    "\n",
    "#the name of the pool is uniswap-v2"
   ]
  },
  {
   "cell_type": "code",
   "execution_count": 49,
   "id": "311b6416",
   "metadata": {},
   "outputs": [],
   "source": [
    "query = gql('''\n",
    "query {\n",
    "  uniswapFactory(id: \"0x5C69bEe701ef814a2B6a3EDD4B1652CB9cc5aA6f\", block: {number: 11276855}) {\n",
    "    totalLiquidityUSD\n",
    "    totalVolumeUSD\n",
    "    \n",
    "  }\n",
    "}''')\n",
    "\n",
    "query_1 = gql('''\n",
    "query trades{\n",
    "  swaps(where:{pair: \"0xa478c2975ab1ea89e8196811f51a7b7ade33eb11\"}, orderBy: timestamp, orderDirection: desc, first:150, block: {number:11009390}) {\n",
    "    id\n",
    "    timestamp\n",
    "    amount0In\n",
    "    amount1In\n",
    "    amount0Out\n",
    "    amount1Out\n",
    "    pair {\n",
    "      token0 {\n",
    "        id\n",
    "        symbol\n",
    "      }\n",
    "      token1 {\n",
    "        id\n",
    "        symbol\n",
    "      }\n",
    "    }\n",
    "    transaction {\n",
    "      blockNumber\n",
    "    }\n",
    "  }\n",
    "}''')\n",
    "#the below is the historical data query\n",
    "query_2 = gql('''\n",
    "query swaps{\n",
    "  swaps(orderBy: timestamp, orderDirection: desc, where:{pair: \"0xa47ea5b74b6879c52250794376443eebd8a17bb3\"}) {\n",
    "    timestamp\n",
    "    amount0In\n",
    "    amount0Out\n",
    "    amount1In\n",
    "    amount1Out\n",
    "    amountUSD\n",
    "    pair {\n",
    "        token0 {\n",
    "        id\n",
    "        symbol\n",
    "        tradeVolumeUSD\n",
    "        totalLiquidity\n",
    "        totalSupply\n",
    "      }\n",
    "        token1 {\n",
    "        id\n",
    "        symbol\n",
    "        tradeVolumeUSD\n",
    "        totalLiquidity\n",
    "        totalSupply\n",
    "      }\n",
    "      volumeUSD\n",
    "    }\n",
    "  }\n",
    "}''')\n",
    "#there is a difference in what you query, either a pair of a particular transaction\n",
    "#on the website for uniswap token pair, some of the token pairs use capital characters in the adress, which does not work on the engine. \n",
    "#0xa478c2975ab1ea89e8196811f51a7b7ade33eb11 = DAI/WETH Pair"
   ]
  },
  {
   "cell_type": "code",
   "execution_count": 50,
   "id": "976ee046",
   "metadata": {},
   "outputs": [
    {
     "name": "stdout",
     "output_type": "stream",
     "text": [
      "helo\n"
     ]
    }
   ],
   "source": [
    "response = client.execute(query)\n",
    "response_1 = client.execute(query_2)\n",
    "#print(response_1)\n",
    "print('helo')"
   ]
  },
  {
   "cell_type": "code",
   "execution_count": 51,
   "id": "460f3c42",
   "metadata": {},
   "outputs": [],
   "source": [
    "import numpy as np\n",
    "import pandas as pd\n"
   ]
  },
  {
   "cell_type": "code",
   "execution_count": null,
   "id": "aa51676c",
   "metadata": {},
   "outputs": [],
   "source": []
  },
  {
   "cell_type": "code",
   "execution_count": 52,
   "id": "e1f13dc7",
   "metadata": {},
   "outputs": [],
   "source": [
    "df = pd.DataFrame(response_1)\n",
    "df_1 = pd.DataFrame(response)"
   ]
  },
  {
   "cell_type": "code",
   "execution_count": 53,
   "id": "39b2030a",
   "metadata": {},
   "outputs": [
    {
     "name": "stdout",
     "output_type": "stream",
     "text": [
      "                                        uniswapFactory\n",
      "totalLiquidityUSD  1811649153.462412111578968988717799\n",
      "totalVolumeUSD     35049599668.73876561807658387583774\n"
     ]
    }
   ],
   "source": [
    "#print(df)\n",
    "print(df_1)"
   ]
  },
  {
   "cell_type": "code",
   "execution_count": 54,
   "id": "f9a5cb60",
   "metadata": {},
   "outputs": [
    {
     "name": "stdout",
     "output_type": "stream",
     "text": [
      "<class 'pandas.core.frame.DataFrame'>\n",
      "RangeIndex: 33 entries, 0 to 32\n",
      "Data columns (total 1 columns):\n",
      " #   Column  Non-Null Count  Dtype \n",
      "---  ------  --------------  ----- \n",
      " 0   swaps   33 non-null     object\n",
      "dtypes: object(1)\n",
      "memory usage: 392.0+ bytes\n",
      "None\n"
     ]
    }
   ],
   "source": [
    "print(df.info())"
   ]
  },
  {
   "cell_type": "code",
   "execution_count": 55,
   "id": "12848889",
   "metadata": {},
   "outputs": [
    {
     "name": "stdout",
     "output_type": "stream",
     "text": [
      "33\n"
     ]
    }
   ],
   "source": [
    "print(len(df))"
   ]
  },
  {
   "cell_type": "code",
   "execution_count": 56,
   "id": "9830d32e",
   "metadata": {},
   "outputs": [
    {
     "name": "stdout",
     "output_type": "stream",
     "text": [
      "(33, 1)\n"
     ]
    }
   ],
   "source": [
    "print(df.shape)"
   ]
  },
  {
   "cell_type": "code",
   "execution_count": 57,
   "id": "493c1312",
   "metadata": {},
   "outputs": [],
   "source": [
    "df.swaps = df.swaps.fillna({i: {} for i in df.index})"
   ]
  },
  {
   "cell_type": "code",
   "execution_count": 58,
   "id": "6070e28f",
   "metadata": {},
   "outputs": [
    {
     "name": "stdout",
     "output_type": "stream",
     "text": [
      "<class 'pandas.core.frame.DataFrame'>\n",
      "RangeIndex: 33 entries, 0 to 32\n",
      "Data columns (total 1 columns):\n",
      " #   Column  Non-Null Count  Dtype \n",
      "---  ------  --------------  ----- \n",
      " 0   swaps   33 non-null     object\n",
      "dtypes: object(1)\n",
      "memory usage: 392.0+ bytes\n",
      "None\n"
     ]
    }
   ],
   "source": [
    "print(df.info())"
   ]
  },
  {
   "cell_type": "code",
   "execution_count": 59,
   "id": "34477c15",
   "metadata": {},
   "outputs": [],
   "source": [
    "#df.swaps = df.swaps.apply(literal_eval)"
   ]
  },
  {
   "cell_type": "code",
   "execution_count": 60,
   "id": "f3d0e9b1",
   "metadata": {},
   "outputs": [],
   "source": [
    "df = df.join(pd.json_normalize(df.swaps))"
   ]
  },
  {
   "cell_type": "code",
   "execution_count": 61,
   "id": "f192817b",
   "metadata": {},
   "outputs": [],
   "source": [
    "df.drop(columns=['swaps'], inplace=True)"
   ]
  },
  {
   "cell_type": "code",
   "execution_count": 62,
   "id": "426a3525",
   "metadata": {},
   "outputs": [
    {
     "name": "stdout",
     "output_type": "stream",
     "text": [
      "       amount0In     amount0Out             amount1In            amount1Out  \\\n",
      "0              0   166.36234311                  0.02                     0   \n",
      "1           19.8              0                     0  0.197282391218907402   \n",
      "2              0    49.85089216               0.19825                     0   \n",
      "3           49.5              0                     0  0.061411834927614139   \n",
      "4              0    11.78443205              0.059475                     0   \n",
      "5     0.53714307              0                     0  0.000117192412105661   \n",
      "6              0              1  0.000211451964927421                     0   \n",
      "7              0              2  0.000336802814775143                     0   \n",
      "8              0              1  0.000136316585155299                     0   \n",
      "9              0            0.5  0.000061864391516565                     0   \n",
      "10             0            0.5  0.000058167685651202                     0   \n",
      "11             0     0.00001722  0.000000001944086274                     0   \n",
      "12        4.9005              0                     0  0.000562678648587209   \n",
      "13             0              5  0.000577214419857034                     0   \n",
      "14  476.79834019              0                     0  0.058992002740493568   \n",
      "15             0            200  0.026458638869074498                     0   \n",
      "16             0           1.07  0.000125209617160268                     0   \n",
      "17             0     2.04773926                0.0002                     0   \n",
      "18             0     1.22297473                0.0001                     0   \n",
      "19   51.61602935              0                     0  0.003946431311424481   \n",
      "20             0  1352.83091141                   0.1                     0   \n",
      "21             0  1471.98382488                   0.1                     0   \n",
      "22             0  1607.61320497                   0.1                     0   \n",
      "23             0   511.55033417                  0.03                     0   \n",
      "24             0            102  0.005883023965723807                     0   \n",
      "25             0             91  0.005221354759851035                     0   \n",
      "26             0   894.59183177                  0.05                     0   \n",
      "27             0    75.88621781  0.004133694295998113                     0   \n",
      "28  649.88370344              0                     0  0.035726022739810043   \n",
      "29             0   540.95866202                  0.03                     0   \n",
      "30             0   292.33427485  0.015859964909101149                     0   \n",
      "31             0   186.64079254                  0.01                     0   \n",
      "32             0           1000   0.05196937964151522                     0   \n",
      "\n",
      "                                     amountUSD   timestamp  \\\n",
      "0          12.69168727125614564557715868176246  1611345588   \n",
      "1          124.9742655852221408464426986761304  1611344850   \n",
      "2          122.0635850293633467479694491497937  1611336524   \n",
      "3          38.22233246132220038122356815736617  1611333606   \n",
      "4          34.67253188653519004644341874692188  1611312037   \n",
      "5        0.04104415285655855093012532476842947  1609128503   \n",
      "6         0.0492876638400996322209488362590713  1605338441   \n",
      "7        0.06367929064643058659894422561081602  1604068814   \n",
      "8        0.02577111785495142400628756144411481  1604068734   \n",
      "9        0.01169586640624051573084474777778226  1604068639   \n",
      "10       0.01099634780585577836008289893327278  1604068587   \n",
      "11  0.0000003675335445276609014251039439298176  1604068411   \n",
      "12       0.09714980107133152059028258585109841  1601998034   \n",
      "13       0.09914422891228169340134633838958205  1601997731   \n",
      "14         11.35813974491652910828673302413727  1600434815   \n",
      "15         5.083539558049434631439368164422188  1600430531   \n",
      "16       0.02371984622131328628072852484943614  1600315501   \n",
      "17       0.03782320607689245149632899655766313  1600303792   \n",
      "18       0.01881849422360986526568934853326772  1600303660   \n",
      "19        0.9586045706938758428063282673589624  1591681660   \n",
      "20         24.96156785044125888374543773282053  1591575810   \n",
      "21         24.98430560339974832292083245674336  1591575788   \n",
      "22         25.00914157236253926389745910336825  1591575726   \n",
      "23         6.107809770327111901187324370679728  1590400519   \n",
      "24         1.216491138653377927363783250774725  1590258294   \n",
      "25         1.086739941571050594277843319510576  1590196730   \n",
      "26         10.32255485384026583463150628410603  1590162941   \n",
      "27        0.8427048714593036446117004005550304  1590152363   \n",
      "28         7.007088290588285433520908720722769  1590107587   \n",
      "29         6.195977011237039468891930902673317  1590069943   \n",
      "30         3.268655363128428018251642449693917  1590052333   \n",
      "31         2.129309811561261310755061712691223  1589978775   \n",
      "32         5.534858886402358673589010511284141  1589964059   \n",
      "\n",
      "                                pair.token0.id pair.token0.symbol  \\\n",
      "0   0x3e370a6c8255b065bd42bc0ac9255b269cfcc172                UNI   \n",
      "1   0x3e370a6c8255b065bd42bc0ac9255b269cfcc172                UNI   \n",
      "2   0x3e370a6c8255b065bd42bc0ac9255b269cfcc172                UNI   \n",
      "3   0x3e370a6c8255b065bd42bc0ac9255b269cfcc172                UNI   \n",
      "4   0x3e370a6c8255b065bd42bc0ac9255b269cfcc172                UNI   \n",
      "5   0x3e370a6c8255b065bd42bc0ac9255b269cfcc172                UNI   \n",
      "6   0x3e370a6c8255b065bd42bc0ac9255b269cfcc172                UNI   \n",
      "7   0x3e370a6c8255b065bd42bc0ac9255b269cfcc172                UNI   \n",
      "8   0x3e370a6c8255b065bd42bc0ac9255b269cfcc172                UNI   \n",
      "9   0x3e370a6c8255b065bd42bc0ac9255b269cfcc172                UNI   \n",
      "10  0x3e370a6c8255b065bd42bc0ac9255b269cfcc172                UNI   \n",
      "11  0x3e370a6c8255b065bd42bc0ac9255b269cfcc172                UNI   \n",
      "12  0x3e370a6c8255b065bd42bc0ac9255b269cfcc172                UNI   \n",
      "13  0x3e370a6c8255b065bd42bc0ac9255b269cfcc172                UNI   \n",
      "14  0x3e370a6c8255b065bd42bc0ac9255b269cfcc172                UNI   \n",
      "15  0x3e370a6c8255b065bd42bc0ac9255b269cfcc172                UNI   \n",
      "16  0x3e370a6c8255b065bd42bc0ac9255b269cfcc172                UNI   \n",
      "17  0x3e370a6c8255b065bd42bc0ac9255b269cfcc172                UNI   \n",
      "18  0x3e370a6c8255b065bd42bc0ac9255b269cfcc172                UNI   \n",
      "19  0x3e370a6c8255b065bd42bc0ac9255b269cfcc172                UNI   \n",
      "20  0x3e370a6c8255b065bd42bc0ac9255b269cfcc172                UNI   \n",
      "21  0x3e370a6c8255b065bd42bc0ac9255b269cfcc172                UNI   \n",
      "22  0x3e370a6c8255b065bd42bc0ac9255b269cfcc172                UNI   \n",
      "23  0x3e370a6c8255b065bd42bc0ac9255b269cfcc172                UNI   \n",
      "24  0x3e370a6c8255b065bd42bc0ac9255b269cfcc172                UNI   \n",
      "25  0x3e370a6c8255b065bd42bc0ac9255b269cfcc172                UNI   \n",
      "26  0x3e370a6c8255b065bd42bc0ac9255b269cfcc172                UNI   \n",
      "27  0x3e370a6c8255b065bd42bc0ac9255b269cfcc172                UNI   \n",
      "28  0x3e370a6c8255b065bd42bc0ac9255b269cfcc172                UNI   \n",
      "29  0x3e370a6c8255b065bd42bc0ac9255b269cfcc172                UNI   \n",
      "30  0x3e370a6c8255b065bd42bc0ac9255b269cfcc172                UNI   \n",
      "31  0x3e370a6c8255b065bd42bc0ac9255b269cfcc172                UNI   \n",
      "32  0x3e370a6c8255b065bd42bc0ac9255b269cfcc172                UNI   \n",
      "\n",
      "   pair.token0.totalLiquidity pair.token0.totalSupply  \\\n",
      "0                  0.00000001                   14336   \n",
      "1                  0.00000001                   14336   \n",
      "2                  0.00000001                   14336   \n",
      "3                  0.00000001                   14336   \n",
      "4                  0.00000001                   14336   \n",
      "5                  0.00000001                   14336   \n",
      "6                  0.00000001                   14336   \n",
      "7                  0.00000001                   14336   \n",
      "8                  0.00000001                   14336   \n",
      "9                  0.00000001                   14336   \n",
      "10                 0.00000001                   14336   \n",
      "11                 0.00000001                   14336   \n",
      "12                 0.00000001                   14336   \n",
      "13                 0.00000001                   14336   \n",
      "14                 0.00000001                   14336   \n",
      "15                 0.00000001                   14336   \n",
      "16                 0.00000001                   14336   \n",
      "17                 0.00000001                   14336   \n",
      "18                 0.00000001                   14336   \n",
      "19                 0.00000001                   14336   \n",
      "20                 0.00000001                   14336   \n",
      "21                 0.00000001                   14336   \n",
      "22                 0.00000001                   14336   \n",
      "23                 0.00000001                   14336   \n",
      "24                 0.00000001                   14336   \n",
      "25                 0.00000001                   14336   \n",
      "26                 0.00000001                   14336   \n",
      "27                 0.00000001                   14336   \n",
      "28                 0.00000001                   14336   \n",
      "29                 0.00000001                   14336   \n",
      "30                 0.00000001                   14336   \n",
      "31                 0.00000001                   14336   \n",
      "32                 0.00000001                   14336   \n",
      "\n",
      "   pair.token0.tradeVolumeUSD                              pair.token1.id  \\\n",
      "0                           0  0xc02aaa39b223fe8d0a0e5c4f27ead9083c756cc2   \n",
      "1                           0  0xc02aaa39b223fe8d0a0e5c4f27ead9083c756cc2   \n",
      "2                           0  0xc02aaa39b223fe8d0a0e5c4f27ead9083c756cc2   \n",
      "3                           0  0xc02aaa39b223fe8d0a0e5c4f27ead9083c756cc2   \n",
      "4                           0  0xc02aaa39b223fe8d0a0e5c4f27ead9083c756cc2   \n",
      "5                           0  0xc02aaa39b223fe8d0a0e5c4f27ead9083c756cc2   \n",
      "6                           0  0xc02aaa39b223fe8d0a0e5c4f27ead9083c756cc2   \n",
      "7                           0  0xc02aaa39b223fe8d0a0e5c4f27ead9083c756cc2   \n",
      "8                           0  0xc02aaa39b223fe8d0a0e5c4f27ead9083c756cc2   \n",
      "9                           0  0xc02aaa39b223fe8d0a0e5c4f27ead9083c756cc2   \n",
      "10                          0  0xc02aaa39b223fe8d0a0e5c4f27ead9083c756cc2   \n",
      "11                          0  0xc02aaa39b223fe8d0a0e5c4f27ead9083c756cc2   \n",
      "12                          0  0xc02aaa39b223fe8d0a0e5c4f27ead9083c756cc2   \n",
      "13                          0  0xc02aaa39b223fe8d0a0e5c4f27ead9083c756cc2   \n",
      "14                          0  0xc02aaa39b223fe8d0a0e5c4f27ead9083c756cc2   \n",
      "15                          0  0xc02aaa39b223fe8d0a0e5c4f27ead9083c756cc2   \n",
      "16                          0  0xc02aaa39b223fe8d0a0e5c4f27ead9083c756cc2   \n",
      "17                          0  0xc02aaa39b223fe8d0a0e5c4f27ead9083c756cc2   \n",
      "18                          0  0xc02aaa39b223fe8d0a0e5c4f27ead9083c756cc2   \n",
      "19                          0  0xc02aaa39b223fe8d0a0e5c4f27ead9083c756cc2   \n",
      "20                          0  0xc02aaa39b223fe8d0a0e5c4f27ead9083c756cc2   \n",
      "21                          0  0xc02aaa39b223fe8d0a0e5c4f27ead9083c756cc2   \n",
      "22                          0  0xc02aaa39b223fe8d0a0e5c4f27ead9083c756cc2   \n",
      "23                          0  0xc02aaa39b223fe8d0a0e5c4f27ead9083c756cc2   \n",
      "24                          0  0xc02aaa39b223fe8d0a0e5c4f27ead9083c756cc2   \n",
      "25                          0  0xc02aaa39b223fe8d0a0e5c4f27ead9083c756cc2   \n",
      "26                          0  0xc02aaa39b223fe8d0a0e5c4f27ead9083c756cc2   \n",
      "27                          0  0xc02aaa39b223fe8d0a0e5c4f27ead9083c756cc2   \n",
      "28                          0  0xc02aaa39b223fe8d0a0e5c4f27ead9083c756cc2   \n",
      "29                          0  0xc02aaa39b223fe8d0a0e5c4f27ead9083c756cc2   \n",
      "30                          0  0xc02aaa39b223fe8d0a0e5c4f27ead9083c756cc2   \n",
      "31                          0  0xc02aaa39b223fe8d0a0e5c4f27ead9083c756cc2   \n",
      "32                          0  0xc02aaa39b223fe8d0a0e5c4f27ead9083c756cc2   \n",
      "\n",
      "   pair.token1.symbol pair.token1.totalLiquidity pair.token1.totalSupply  \\\n",
      "0                WETH   762957.28947368757309867                   15608   \n",
      "1                WETH   762957.28947368757309867                   15608   \n",
      "2                WETH   762957.28947368757309867                   15608   \n",
      "3                WETH   762957.28947368757309867                   15608   \n",
      "4                WETH   762957.28947368757309867                   15608   \n",
      "5                WETH   762957.28947368757309867                   15608   \n",
      "6                WETH   762957.28947368757309867                   15608   \n",
      "7                WETH   762957.28947368757309867                   15608   \n",
      "8                WETH   762957.28947368757309867                   15608   \n",
      "9                WETH   762957.28947368757309867                   15608   \n",
      "10               WETH   762957.28947368757309867                   15608   \n",
      "11               WETH   762957.28947368757309867                   15608   \n",
      "12               WETH   762957.28947368757309867                   15608   \n",
      "13               WETH   762957.28947368757309867                   15608   \n",
      "14               WETH   762957.28947368757309867                   15608   \n",
      "15               WETH   762957.28947368757309867                   15608   \n",
      "16               WETH   762957.28947368757309867                   15608   \n",
      "17               WETH   762957.28947368757309867                   15608   \n",
      "18               WETH   762957.28947368757309867                   15608   \n",
      "19               WETH   762957.28947368757309867                   15608   \n",
      "20               WETH   762957.28947368757309867                   15608   \n",
      "21               WETH   762957.28947368757309867                   15608   \n",
      "22               WETH   762957.28947368757309867                   15608   \n",
      "23               WETH   762957.28947368757309867                   15608   \n",
      "24               WETH   762957.28947368757309867                   15608   \n",
      "25               WETH   762957.28947368757309867                   15608   \n",
      "26               WETH   762957.28947368757309867                   15608   \n",
      "27               WETH   762957.28947368757309867                   15608   \n",
      "28               WETH   762957.28947368757309867                   15608   \n",
      "29               WETH   762957.28947368757309867                   15608   \n",
      "30               WETH   762957.28947368757309867                   15608   \n",
      "31               WETH   762957.28947368757309867                   15608   \n",
      "32               WETH   762957.28947368757309867                   15608   \n",
      "\n",
      "             pair.token1.tradeVolumeUSD pair.volumeUSD  \n",
      "0   270806579243.0612670932175343408743              0  \n",
      "1   270806579243.0612670932175343408743              0  \n",
      "2   270806579243.0612670932175343408743              0  \n",
      "3   270806579243.0612670932175343408743              0  \n",
      "4   270806579243.0612670932175343408743              0  \n",
      "5   270806579243.0612670932175343408743              0  \n",
      "6   270806579243.0612670932175343408743              0  \n",
      "7   270806579243.0612670932175343408743              0  \n",
      "8   270806579243.0612670932175343408743              0  \n",
      "9   270806579243.0612670932175343408743              0  \n",
      "10  270806579243.0612670932175343408743              0  \n",
      "11  270806579243.0612670932175343408743              0  \n",
      "12  270806579243.0612670932175343408743              0  \n",
      "13  270806579243.0612670932175343408743              0  \n",
      "14  270806579243.0612670932175343408743              0  \n",
      "15  270806579243.0612670932175343408743              0  \n",
      "16  270806579243.0612670932175343408743              0  \n",
      "17  270806579243.0612670932175343408743              0  \n",
      "18  270806579243.0612670932175343408743              0  \n",
      "19  270806579243.0612670932175343408743              0  \n",
      "20  270806579243.0612670932175343408743              0  \n",
      "21  270806579243.0612670932175343408743              0  \n",
      "22  270806579243.0612670932175343408743              0  \n",
      "23  270806579243.0612670932175343408743              0  \n",
      "24  270806579243.0612670932175343408743              0  \n",
      "25  270806579243.0612670932175343408743              0  \n",
      "26  270806579243.0612670932175343408743              0  \n",
      "27  270806579243.0612670932175343408743              0  \n",
      "28  270806579243.0612670932175343408743              0  \n",
      "29  270806579243.0612670932175343408743              0  \n",
      "30  270806579243.0612670932175343408743              0  \n",
      "31  270806579243.0612670932175343408743              0  \n",
      "32  270806579243.0612670932175343408743              0  \n"
     ]
    }
   ],
   "source": [
    "print(df)"
   ]
  },
  {
   "cell_type": "code",
   "execution_count": 63,
   "id": "984597b4",
   "metadata": {},
   "outputs": [],
   "source": [
    "#now the part of the analytics"
   ]
  },
  {
   "cell_type": "code",
   "execution_count": 64,
   "id": "d895314b",
   "metadata": {},
   "outputs": [],
   "source": [
    "import matplotlib as plt"
   ]
  },
  {
   "cell_type": "code",
   "execution_count": null,
   "id": "1d1e5445",
   "metadata": {},
   "outputs": [],
   "source": []
  },
  {
   "cell_type": "code",
   "execution_count": 65,
   "id": "7e91a19b",
   "metadata": {},
   "outputs": [],
   "source": [
    "import matplotlib.pyplot as plt"
   ]
  },
  {
   "cell_type": "code",
   "execution_count": 66,
   "id": "45cd3a32",
   "metadata": {},
   "outputs": [
    {
     "name": "stdout",
     "output_type": "stream",
     "text": [
      "  amount0In    amount0Out amount1In            amount1Out  \\\n",
      "0         0  166.36234311      0.02                     0   \n",
      "1      19.8             0         0  0.197282391218907402   \n",
      "2         0   49.85089216   0.19825                     0   \n",
      "3      49.5             0         0  0.061411834927614139   \n",
      "4         0   11.78443205  0.059475                     0   \n",
      "\n",
      "                             amountUSD   timestamp  \\\n",
      "0  12.69168727125614564557715868176246  1611345588   \n",
      "1  124.9742655852221408464426986761304  1611344850   \n",
      "2  122.0635850293633467479694491497937  1611336524   \n",
      "3  38.22233246132220038122356815736617  1611333606   \n",
      "4  34.67253188653519004644341874692188  1611312037   \n",
      "\n",
      "                               pair.token0.id pair.token0.symbol  \\\n",
      "0  0x3e370a6c8255b065bd42bc0ac9255b269cfcc172                UNI   \n",
      "1  0x3e370a6c8255b065bd42bc0ac9255b269cfcc172                UNI   \n",
      "2  0x3e370a6c8255b065bd42bc0ac9255b269cfcc172                UNI   \n",
      "3  0x3e370a6c8255b065bd42bc0ac9255b269cfcc172                UNI   \n",
      "4  0x3e370a6c8255b065bd42bc0ac9255b269cfcc172                UNI   \n",
      "\n",
      "  pair.token0.totalLiquidity pair.token0.totalSupply  \\\n",
      "0                 0.00000001                   14336   \n",
      "1                 0.00000001                   14336   \n",
      "2                 0.00000001                   14336   \n",
      "3                 0.00000001                   14336   \n",
      "4                 0.00000001                   14336   \n",
      "\n",
      "  pair.token0.tradeVolumeUSD                              pair.token1.id  \\\n",
      "0                          0  0xc02aaa39b223fe8d0a0e5c4f27ead9083c756cc2   \n",
      "1                          0  0xc02aaa39b223fe8d0a0e5c4f27ead9083c756cc2   \n",
      "2                          0  0xc02aaa39b223fe8d0a0e5c4f27ead9083c756cc2   \n",
      "3                          0  0xc02aaa39b223fe8d0a0e5c4f27ead9083c756cc2   \n",
      "4                          0  0xc02aaa39b223fe8d0a0e5c4f27ead9083c756cc2   \n",
      "\n",
      "  pair.token1.symbol pair.token1.totalLiquidity pair.token1.totalSupply  \\\n",
      "0               WETH   762957.28947368757309867                   15608   \n",
      "1               WETH   762957.28947368757309867                   15608   \n",
      "2               WETH   762957.28947368757309867                   15608   \n",
      "3               WETH   762957.28947368757309867                   15608   \n",
      "4               WETH   762957.28947368757309867                   15608   \n",
      "\n",
      "            pair.token1.tradeVolumeUSD pair.volumeUSD  \n",
      "0  270806579243.0612670932175343408743              0  \n",
      "1  270806579243.0612670932175343408743              0  \n",
      "2  270806579243.0612670932175343408743              0  \n",
      "3  270806579243.0612670932175343408743              0  \n",
      "4  270806579243.0612670932175343408743              0  \n"
     ]
    }
   ],
   "source": [
    "print(df.head())"
   ]
  },
  {
   "cell_type": "code",
   "execution_count": 73,
   "id": "a6e949fe",
   "metadata": {},
   "outputs": [
    {
     "name": "stdout",
     "output_type": "stream",
     "text": [
      "<class 'numpy.float64'>\n"
     ]
    },
    {
     "data": {
      "text/plain": [
       "[<matplotlib.lines.Line2D at 0x1111e8d30>]"
      ]
     },
     "execution_count": 73,
     "metadata": {},
     "output_type": "execute_result"
    },
    {
     "data": {
      "image/png": "[encoded data removed]",
      "text/plain": [
       "<Figure size 432x288 with 1 Axes>"
      ]
     },
     "metadata": {
      "needs_background": "light"
     },
     "output_type": "display_data"
    }
   ],
   "source": [
    "#plt.plot(df[\"timestamp\"],df[\"amountUSD\"])\n",
    "#df['amount0In'] = pd.to_numeric(df['amount0In'])\n",
    "df['amount0Out'] = pd.to_numeric(df['amount0Out'])\n",
    "df['amount1In'] = pd.to_numeric(df['amount1In'])\n",
    "df['amount1Out'] = pd.to_numeric(df['amount1Out'])\n",
    "df['amount0In'] = pd.to_numeric(df['amount0In'])\n",
    "df['amountUSD'] = pd.to_numeric(df['amountUSD'])\n",
    "print(type(df['amountUSD'][1]))\n",
    "\n",
    "df['RollingUSD'] = df['amountUSD'].rolling(window = 3).mean()\n",
    "#print(df)\n",
    "plt.plot(df['RollingUSD'],df['timestamp'])\n",
    "\n",
    "\n",
    "#df['cum_sum'] = cummulative_list['Liquidity'].cumsum()\n",
    "#df['check'] = range(1,len(cummulative_list['Liquidity'])+1)\n",
    "#df['Liquidity'] = pd.to_numeric(cummulative_list['Liquidity'])\n",
    "#df['Moving Average'] = cummulative_list['cum_sum'] / cummulative_list['check']\n",
    "#df['Rolling Mean'] = cummulative_list['Liquidity'].rolling(window = 3).mean()\n",
    "\n",
    "#the format is always x,y. Need more variables here"
   ]
  },
  {
   "cell_type": "code",
   "execution_count": null,
   "id": "faee9ffe",
   "metadata": {},
   "outputs": [],
   "source": []
  },
  {
   "cell_type": "code",
   "execution_count": null,
   "id": "a2e96d64",
   "metadata": {},
   "outputs": [],
   "source": []
  }
 ],
 "metadata": {
  "kernelspec": {
   "display_name": "Python 3",
   "language": "python",
   "name": "python3"
  },
  "language_info": {
   "codemirror_mode": {
    "name": "ipython",
    "version": 3
   },
   "file_extension": ".py",
   "mimetype": "text/x-python",
   "name": "python",
   "nbconvert_exporter": "python",
   "pygments_lexer": "ipython3",
   "version": "3.8.7"
  }
 },
 "nbformat": 4,
 "nbformat_minor": 5
}
