{
 "cells": [
  {
   "cell_type": "code",
   "execution_count": 84,
   "id": "ba4adf8f",
   "metadata": {},
   "outputs": [],
   "source": [
    "from gql import gql,Client\n",
    "#the graphql package for python\n",
    "from gql.transport.requests import RequestsHTTPTransport\n",
    "#this is the main file"
   ]
  },
  {
   "cell_type": "code",
   "execution_count": 85,
   "id": "bd7e38c8",
   "metadata": {},
   "outputs": [],
   "source": [
    "sample_transport=RequestsHTTPTransport(\n",
    "    url='https://api.thegraph.com/subgraphs/name/uniswap/uniswap-v2',\n",
    "    verify=True,\n",
    "    retries=5,\n",
    ")\n",
    "#standard configuration"
   ]
  },
  {
   "cell_type": "code",
   "execution_count": 86,
   "id": "81f0454c",
   "metadata": {},
   "outputs": [],
   "source": [
    "client = Client(\n",
    "transport = sample_transport\n",
    ")\n",
    "#estabilishing and finally getting the data is done by the client from gql\n",
    "#the name of the pool is uniswap-v2"
   ]
  },
  {
   "cell_type": "code",
   "execution_count": 87,
   "id": "311b6416",
   "metadata": {},
   "outputs": [],
   "source": [
    "\n",
    "query_1 = gql('''\n",
    "query trades{\n",
    "  swaps(where:{pair: \"0xa478c2975ab1ea89e8196811f51a7b7ade33eb11\"}, orderBy: timestamp, orderDirection: desc, first:150, block: {number:11009390}) {\n",
    "    id\n",
    "    timestamp\n",
    "    amount0In\n",
    "    amount1In\n",
    "    amount0Out\n",
    "    amount1Out\n",
    "    pair {\n",
    "      token0 {\n",
    "        id\n",
    "        symbol\n",
    "      }\n",
    "      token1 {\n",
    "        id\n",
    "        symbol\n",
    "      }\n",
    "    }\n",
    "    transaction {\n",
    "      blockNumber\n",
    "    }\n",
    "  }\n",
    "}''')\n",
    "#the below is the historical data query\n",
    "query_2 = gql('''\n",
    "query swaps{\n",
    "  swaps(orderBy: timestamp, orderDirection: desc, first:150, where:{pair: \"0xa47ea5b74b6879c52250794376443eebd8a17bb3\"}) {\n",
    "    timestamp\n",
    "    amount0In\n",
    "    amount0Out\n",
    "    amount1In\n",
    "    amount1Out\n",
    "    amountUSD\n",
    "    pair {\n",
    "        token0 {\n",
    "        id\n",
    "        symbol\n",
    "        tradeVolumeUSD\n",
    "        totalLiquidity\n",
    "        totalSupply\n",
    "      }\n",
    "        token1 {\n",
    "        id\n",
    "        symbol\n",
    "        tradeVolumeUSD\n",
    "        totalLiquidity\n",
    "        totalSupply\n",
    "      }\n",
    "      volumeUSD\n",
    "      \n",
    "    }\n",
    "    transaction {\n",
    "        id\n",
    "        blockNumber\n",
    "    \n",
    "    }\n",
    "  }\n",
    "}''')\n",
    "#there is a difference in what you query, either a pair of a particular transaction\n",
    "#on the website for uniswap token pair, some of the token pairs use capital characters in the adress, which does not work on the engine. \n",
    "#0xa478c2975ab1ea89e8196811f51a7b7ade33eb11 = DAI/WETH Pair"
   ]
  },
  {
   "cell_type": "code",
   "execution_count": 88,
   "id": "976ee046",
   "metadata": {},
   "outputs": [],
   "source": [
    "response_1 = client.execute(query_2)\n",
    "#print(response_1)"
   ]
  },
  {
   "cell_type": "code",
   "execution_count": 89,
   "id": "460f3c42",
   "metadata": {},
   "outputs": [],
   "source": [
    "import numpy as np\n",
    "import pandas as pd\n"
   ]
  },
  {
   "cell_type": "code",
   "execution_count": null,
   "id": "aa51676c",
   "metadata": {},
   "outputs": [],
   "source": []
  },
  {
   "cell_type": "code",
   "execution_count": 90,
   "id": "e1f13dc7",
   "metadata": {},
   "outputs": [],
   "source": [
    "df = pd.DataFrame(response_1)\n"
   ]
  },
  {
   "cell_type": "code",
   "execution_count": 91,
   "id": "39b2030a",
   "metadata": {},
   "outputs": [
    {
     "name": "stdout",
     "output_type": "stream",
     "text": [
      "                                                swaps\n",
      "0   {'amount0In': '0', 'amount0Out': '166.36234311...\n",
      "1   {'amount0In': '19.8', 'amount0Out': '0', 'amou...\n",
      "2   {'amount0In': '0', 'amount0Out': '49.85089216'...\n",
      "3   {'amount0In': '49.5', 'amount0Out': '0', 'amou...\n",
      "4   {'amount0In': '0', 'amount0Out': '11.78443205'...\n",
      "5   {'amount0In': '0.53714307', 'amount0Out': '0',...\n",
      "6   {'amount0In': '0', 'amount0Out': '1', 'amount1...\n",
      "7   {'amount0In': '0', 'amount0Out': '2', 'amount1...\n",
      "8   {'amount0In': '0', 'amount0Out': '1', 'amount1...\n",
      "9   {'amount0In': '0', 'amount0Out': '0.5', 'amoun...\n",
      "10  {'amount0In': '0', 'amount0Out': '0.5', 'amoun...\n",
      "11  {'amount0In': '0', 'amount0Out': '0.00001722',...\n",
      "12  {'amount0In': '4.9005', 'amount0Out': '0', 'am...\n",
      "13  {'amount0In': '0', 'amount0Out': '5', 'amount1...\n",
      "14  {'amount0In': '476.79834019', 'amount0Out': '0...\n",
      "15  {'amount0In': '0', 'amount0Out': '200', 'amoun...\n",
      "16  {'amount0In': '0', 'amount0Out': '1.07', 'amou...\n",
      "17  {'amount0In': '0', 'amount0Out': '2.04773926',...\n",
      "18  {'amount0In': '0', 'amount0Out': '1.22297473',...\n",
      "19  {'amount0In': '51.61602935', 'amount0Out': '0'...\n",
      "20  {'amount0In': '0', 'amount0Out': '1352.8309114...\n",
      "21  {'amount0In': '0', 'amount0Out': '1471.9838248...\n",
      "22  {'amount0In': '0', 'amount0Out': '1607.6132049...\n",
      "23  {'amount0In': '0', 'amount0Out': '511.55033417...\n",
      "24  {'amount0In': '0', 'amount0Out': '102', 'amoun...\n",
      "25  {'amount0In': '0', 'amount0Out': '91', 'amount...\n",
      "26  {'amount0In': '0', 'amount0Out': '894.59183177...\n",
      "27  {'amount0In': '0', 'amount0Out': '75.88621781'...\n",
      "28  {'amount0In': '649.88370344', 'amount0Out': '0...\n",
      "29  {'amount0In': '0', 'amount0Out': '540.95866202...\n",
      "30  {'amount0In': '0', 'amount0Out': '292.33427485...\n",
      "31  {'amount0In': '0', 'amount0Out': '186.64079254...\n",
      "32  {'amount0In': '0', 'amount0Out': '1000', 'amou...\n"
     ]
    }
   ],
   "source": [
    "#print(df)\n",
    "print(df)"
   ]
  },
  {
   "cell_type": "code",
   "execution_count": 92,
   "id": "f9a5cb60",
   "metadata": {},
   "outputs": [
    {
     "name": "stdout",
     "output_type": "stream",
     "text": [
      "<class 'pandas.core.frame.DataFrame'>\n",
      "RangeIndex: 33 entries, 0 to 32\n",
      "Data columns (total 1 columns):\n",
      " #   Column  Non-Null Count  Dtype \n",
      "---  ------  --------------  ----- \n",
      " 0   swaps   33 non-null     object\n",
      "dtypes: object(1)\n",
      "memory usage: 392.0+ bytes\n",
      "None\n"
     ]
    }
   ],
   "source": [
    "print(df.info())"
   ]
  },
  {
   "cell_type": "code",
   "execution_count": 93,
   "id": "12848889",
   "metadata": {},
   "outputs": [
    {
     "name": "stdout",
     "output_type": "stream",
     "text": [
      "33\n"
     ]
    }
   ],
   "source": [
    "print(len(df))"
   ]
  },
  {
   "cell_type": "code",
   "execution_count": 94,
   "id": "9830d32e",
   "metadata": {},
   "outputs": [
    {
     "name": "stdout",
     "output_type": "stream",
     "text": [
      "(33, 1)\n"
     ]
    }
   ],
   "source": [
    "print(df.shape)"
   ]
  },
  {
   "cell_type": "code",
   "execution_count": 95,
   "id": "493c1312",
   "metadata": {},
   "outputs": [],
   "source": [
    "df.swaps = df.swaps.fillna({i: {} for i in df.index})"
   ]
  },
  {
   "cell_type": "code",
   "execution_count": 96,
   "id": "6070e28f",
   "metadata": {},
   "outputs": [
    {
     "name": "stdout",
     "output_type": "stream",
     "text": [
      "<class 'pandas.core.frame.DataFrame'>\n",
      "RangeIndex: 33 entries, 0 to 32\n",
      "Data columns (total 1 columns):\n",
      " #   Column  Non-Null Count  Dtype \n",
      "---  ------  --------------  ----- \n",
      " 0   swaps   33 non-null     object\n",
      "dtypes: object(1)\n",
      "memory usage: 392.0+ bytes\n",
      "None\n"
     ]
    }
   ],
   "source": [
    "print(df.info())"
   ]
  },
  {
   "cell_type": "code",
   "execution_count": 97,
   "id": "34477c15",
   "metadata": {},
   "outputs": [],
   "source": [
    "#df.swaps = df.swaps.apply(literal_eval)"
   ]
  },
  {
   "cell_type": "code",
   "execution_count": 98,
   "id": "f3d0e9b1",
   "metadata": {},
   "outputs": [],
   "source": [
    "df = df.join(pd.json_normalize(df.swaps))"
   ]
  },
  {
   "cell_type": "code",
   "execution_count": 99,
   "id": "f192817b",
   "metadata": {},
   "outputs": [],
   "source": [
    "df.drop(columns=['swaps'], inplace=True)\n",
    "#the above lines of code are used to split the swaps dataset into its constituent columns"
   ]
  },
  {
   "cell_type": "code",
   "execution_count": 100,
   "id": "426a3525",
   "metadata": {},
   "outputs": [
    {
     "name": "stdout",
     "output_type": "stream",
     "text": [
      "       amount0In     amount0Out             amount1In            amount1Out  \\\n",
      "0              0   166.36234311                  0.02                     0   \n",
      "1           19.8              0                     0  0.197282391218907402   \n",
      "2              0    49.85089216               0.19825                     0   \n",
      "3           49.5              0                     0  0.061411834927614139   \n",
      "4              0    11.78443205              0.059475                     0   \n",
      "5     0.53714307              0                     0  0.000117192412105661   \n",
      "6              0              1  0.000211451964927421                     0   \n",
      "7              0              2  0.000336802814775143                     0   \n",
      "8              0              1  0.000136316585155299                     0   \n",
      "9              0            0.5  0.000061864391516565                     0   \n",
      "10             0            0.5  0.000058167685651202                     0   \n",
      "11             0     0.00001722  0.000000001944086274                     0   \n",
      "12        4.9005              0                     0  0.000562678648587209   \n",
      "13             0              5  0.000577214419857034                     0   \n",
      "14  476.79834019              0                     0  0.058992002740493568   \n",
      "15             0            200  0.026458638869074498                     0   \n",
      "16             0           1.07  0.000125209617160268                     0   \n",
      "17             0     2.04773926                0.0002                     0   \n",
      "18             0     1.22297473                0.0001                     0   \n",
      "19   51.61602935              0                     0  0.003946431311424481   \n",
      "20             0  1352.83091141                   0.1                     0   \n",
      "21             0  1471.98382488                   0.1                     0   \n",
      "22             0  1607.61320497                   0.1                     0   \n",
      "23             0   511.55033417                  0.03                     0   \n",
      "24             0            102  0.005883023965723807                     0   \n",
      "25             0             91  0.005221354759851035                     0   \n",
      "26             0   894.59183177                  0.05                     0   \n",
      "27             0    75.88621781  0.004133694295998113                     0   \n",
      "28  649.88370344              0                     0  0.035726022739810043   \n",
      "29             0   540.95866202                  0.03                     0   \n",
      "30             0   292.33427485  0.015859964909101149                     0   \n",
      "31             0   186.64079254                  0.01                     0   \n",
      "32             0           1000   0.05196937964151522                     0   \n",
      "\n",
      "                                     amountUSD   timestamp  \\\n",
      "0          12.69168727125614564557715868176246  1611345588   \n",
      "1          124.9742655852221408464426986761304  1611344850   \n",
      "2          122.0635850293633467479694491497937  1611336524   \n",
      "3          38.22233246132220038122356815736617  1611333606   \n",
      "4          34.67253188653519004644341874692188  1611312037   \n",
      "5        0.04104415285655855093012532476842947  1609128503   \n",
      "6         0.0492876638400996322209488362590713  1605338441   \n",
      "7        0.06367929064643058659894422561081602  1604068814   \n",
      "8        0.02577111785495142400628756144411481  1604068734   \n",
      "9        0.01169586640624051573084474777778226  1604068639   \n",
      "10       0.01099634780585577836008289893327278  1604068587   \n",
      "11  0.0000003675335445276609014251039439298176  1604068411   \n",
      "12       0.09714980107133152059028258585109841  1601998034   \n",
      "13       0.09914422891228169340134633838958205  1601997731   \n",
      "14         11.35813974491652910828673302413727  1600434815   \n",
      "15         5.083539558049434631439368164422188  1600430531   \n",
      "16       0.02371984622131328628072852484943614  1600315501   \n",
      "17       0.03782320607689245149632899655766313  1600303792   \n",
      "18       0.01881849422360986526568934853326772  1600303660   \n",
      "19        0.9586045706938758428063282673589624  1591681660   \n",
      "20         24.96156785044125888374543773282053  1591575810   \n",
      "21         24.98430560339974832292083245674336  1591575788   \n",
      "22         25.00914157236253926389745910336825  1591575726   \n",
      "23         6.107809770327111901187324370679728  1590400519   \n",
      "24         1.216491138653377927363783250774725  1590258294   \n",
      "25         1.086739941571050594277843319510576  1590196730   \n",
      "26         10.32255485384026583463150628410603  1590162941   \n",
      "27        0.8427048714593036446117004005550304  1590152363   \n",
      "28         7.007088290588285433520908720722769  1590107587   \n",
      "29         6.195977011237039468891930902673317  1590069943   \n",
      "30         3.268655363128428018251642449693917  1590052333   \n",
      "31         2.129309811561261310755061712691223  1589978775   \n",
      "32         5.534858886402358673589010511284141  1589964059   \n",
      "\n",
      "                                pair.token0.id pair.token0.symbol  \\\n",
      "0   0x3e370a6c8255b065bd42bc0ac9255b269cfcc172                UNI   \n",
      "1   0x3e370a6c8255b065bd42bc0ac9255b269cfcc172                UNI   \n",
      "2   0x3e370a6c8255b065bd42bc0ac9255b269cfcc172                UNI   \n",
      "3   0x3e370a6c8255b065bd42bc0ac9255b269cfcc172                UNI   \n",
      "4   0x3e370a6c8255b065bd42bc0ac9255b269cfcc172                UNI   \n",
      "5   0x3e370a6c8255b065bd42bc0ac9255b269cfcc172                UNI   \n",
      "6   0x3e370a6c8255b065bd42bc0ac9255b269cfcc172                UNI   \n",
      "7   0x3e370a6c8255b065bd42bc0ac9255b269cfcc172                UNI   \n",
      "8   0x3e370a6c8255b065bd42bc0ac9255b269cfcc172                UNI   \n",
      "9   0x3e370a6c8255b065bd42bc0ac9255b269cfcc172                UNI   \n",
      "10  0x3e370a6c8255b065bd42bc0ac9255b269cfcc172                UNI   \n",
      "11  0x3e370a6c8255b065bd42bc0ac9255b269cfcc172                UNI   \n",
      "12  0x3e370a6c8255b065bd42bc0ac9255b269cfcc172                UNI   \n",
      "13  0x3e370a6c8255b065bd42bc0ac9255b269cfcc172                UNI   \n",
      "14  0x3e370a6c8255b065bd42bc0ac9255b269cfcc172                UNI   \n",
      "15  0x3e370a6c8255b065bd42bc0ac9255b269cfcc172                UNI   \n",
      "16  0x3e370a6c8255b065bd42bc0ac9255b269cfcc172                UNI   \n",
      "17  0x3e370a6c8255b065bd42bc0ac9255b269cfcc172                UNI   \n",
      "18  0x3e370a6c8255b065bd42bc0ac9255b269cfcc172                UNI   \n",
      "19  0x3e370a6c8255b065bd42bc0ac9255b269cfcc172                UNI   \n",
      "20  0x3e370a6c8255b065bd42bc0ac9255b269cfcc172                UNI   \n",
      "21  0x3e370a6c8255b065bd42bc0ac9255b269cfcc172                UNI   \n",
      "22  0x3e370a6c8255b065bd42bc0ac9255b269cfcc172                UNI   \n",
      "23  0x3e370a6c8255b065bd42bc0ac9255b269cfcc172                UNI   \n",
      "24  0x3e370a6c8255b065bd42bc0ac9255b269cfcc172                UNI   \n",
      "25  0x3e370a6c8255b065bd42bc0ac9255b269cfcc172                UNI   \n",
      "26  0x3e370a6c8255b065bd42bc0ac9255b269cfcc172                UNI   \n",
      "27  0x3e370a6c8255b065bd42bc0ac9255b269cfcc172                UNI   \n",
      "28  0x3e370a6c8255b065bd42bc0ac9255b269cfcc172                UNI   \n",
      "29  0x3e370a6c8255b065bd42bc0ac9255b269cfcc172                UNI   \n",
      "30  0x3e370a6c8255b065bd42bc0ac9255b269cfcc172                UNI   \n",
      "31  0x3e370a6c8255b065bd42bc0ac9255b269cfcc172                UNI   \n",
      "32  0x3e370a6c8255b065bd42bc0ac9255b269cfcc172                UNI   \n",
      "\n",
      "   pair.token0.totalLiquidity pair.token0.totalSupply  \\\n",
      "0                  0.00000001                   14336   \n",
      "1                  0.00000001                   14336   \n",
      "2                  0.00000001                   14336   \n",
      "3                  0.00000001                   14336   \n",
      "4                  0.00000001                   14336   \n",
      "5                  0.00000001                   14336   \n",
      "6                  0.00000001                   14336   \n",
      "7                  0.00000001                   14336   \n",
      "8                  0.00000001                   14336   \n",
      "9                  0.00000001                   14336   \n",
      "10                 0.00000001                   14336   \n",
      "11                 0.00000001                   14336   \n",
      "12                 0.00000001                   14336   \n",
      "13                 0.00000001                   14336   \n",
      "14                 0.00000001                   14336   \n",
      "15                 0.00000001                   14336   \n",
      "16                 0.00000001                   14336   \n",
      "17                 0.00000001                   14336   \n",
      "18                 0.00000001                   14336   \n",
      "19                 0.00000001                   14336   \n",
      "20                 0.00000001                   14336   \n",
      "21                 0.00000001                   14336   \n",
      "22                 0.00000001                   14336   \n",
      "23                 0.00000001                   14336   \n",
      "24                 0.00000001                   14336   \n",
      "25                 0.00000001                   14336   \n",
      "26                 0.00000001                   14336   \n",
      "27                 0.00000001                   14336   \n",
      "28                 0.00000001                   14336   \n",
      "29                 0.00000001                   14336   \n",
      "30                 0.00000001                   14336   \n",
      "31                 0.00000001                   14336   \n",
      "32                 0.00000001                   14336   \n",
      "\n",
      "   pair.token0.tradeVolumeUSD                              pair.token1.id  \\\n",
      "0                           0  0xc02aaa39b223fe8d0a0e5c4f27ead9083c756cc2   \n",
      "1                           0  0xc02aaa39b223fe8d0a0e5c4f27ead9083c756cc2   \n",
      "2                           0  0xc02aaa39b223fe8d0a0e5c4f27ead9083c756cc2   \n",
      "3                           0  0xc02aaa39b223fe8d0a0e5c4f27ead9083c756cc2   \n",
      "4                           0  0xc02aaa39b223fe8d0a0e5c4f27ead9083c756cc2   \n",
      "5                           0  0xc02aaa39b223fe8d0a0e5c4f27ead9083c756cc2   \n",
      "6                           0  0xc02aaa39b223fe8d0a0e5c4f27ead9083c756cc2   \n",
      "7                           0  0xc02aaa39b223fe8d0a0e5c4f27ead9083c756cc2   \n",
      "8                           0  0xc02aaa39b223fe8d0a0e5c4f27ead9083c756cc2   \n",
      "9                           0  0xc02aaa39b223fe8d0a0e5c4f27ead9083c756cc2   \n",
      "10                          0  0xc02aaa39b223fe8d0a0e5c4f27ead9083c756cc2   \n",
      "11                          0  0xc02aaa39b223fe8d0a0e5c4f27ead9083c756cc2   \n",
      "12                          0  0xc02aaa39b223fe8d0a0e5c4f27ead9083c756cc2   \n",
      "13                          0  0xc02aaa39b223fe8d0a0e5c4f27ead9083c756cc2   \n",
      "14                          0  0xc02aaa39b223fe8d0a0e5c4f27ead9083c756cc2   \n",
      "15                          0  0xc02aaa39b223fe8d0a0e5c4f27ead9083c756cc2   \n",
      "16                          0  0xc02aaa39b223fe8d0a0e5c4f27ead9083c756cc2   \n",
      "17                          0  0xc02aaa39b223fe8d0a0e5c4f27ead9083c756cc2   \n",
      "18                          0  0xc02aaa39b223fe8d0a0e5c4f27ead9083c756cc2   \n",
      "19                          0  0xc02aaa39b223fe8d0a0e5c4f27ead9083c756cc2   \n",
      "20                          0  0xc02aaa39b223fe8d0a0e5c4f27ead9083c756cc2   \n",
      "21                          0  0xc02aaa39b223fe8d0a0e5c4f27ead9083c756cc2   \n",
      "22                          0  0xc02aaa39b223fe8d0a0e5c4f27ead9083c756cc2   \n",
      "23                          0  0xc02aaa39b223fe8d0a0e5c4f27ead9083c756cc2   \n",
      "24                          0  0xc02aaa39b223fe8d0a0e5c4f27ead9083c756cc2   \n",
      "25                          0  0xc02aaa39b223fe8d0a0e5c4f27ead9083c756cc2   \n",
      "26                          0  0xc02aaa39b223fe8d0a0e5c4f27ead9083c756cc2   \n",
      "27                          0  0xc02aaa39b223fe8d0a0e5c4f27ead9083c756cc2   \n",
      "28                          0  0xc02aaa39b223fe8d0a0e5c4f27ead9083c756cc2   \n",
      "29                          0  0xc02aaa39b223fe8d0a0e5c4f27ead9083c756cc2   \n",
      "30                          0  0xc02aaa39b223fe8d0a0e5c4f27ead9083c756cc2   \n",
      "31                          0  0xc02aaa39b223fe8d0a0e5c4f27ead9083c756cc2   \n",
      "32                          0  0xc02aaa39b223fe8d0a0e5c4f27ead9083c756cc2   \n",
      "\n",
      "   pair.token1.symbol pair.token1.totalLiquidity pair.token1.totalSupply  \\\n",
      "0                WETH  750821.817095431381260165                   15608   \n",
      "1                WETH  750821.817095431381260165                   15608   \n",
      "2                WETH  750821.817095431381260165                   15608   \n",
      "3                WETH  750821.817095431381260165                   15608   \n",
      "4                WETH  750821.817095431381260165                   15608   \n",
      "5                WETH  750821.817095431381260165                   15608   \n",
      "6                WETH  750821.817095431381260165                   15608   \n",
      "7                WETH  750821.817095431381260165                   15608   \n",
      "8                WETH  750821.817095431381260165                   15608   \n",
      "9                WETH  750821.817095431381260165                   15608   \n",
      "10               WETH  750821.817095431381260165                   15608   \n",
      "11               WETH  750821.817095431381260165                   15608   \n",
      "12               WETH  750821.817095431381260165                   15608   \n",
      "13               WETH  750821.817095431381260165                   15608   \n",
      "14               WETH  750821.817095431381260165                   15608   \n",
      "15               WETH  750821.817095431381260165                   15608   \n",
      "16               WETH  750821.817095431381260165                   15608   \n",
      "17               WETH  750821.817095431381260165                   15608   \n",
      "18               WETH  750821.817095431381260165                   15608   \n",
      "19               WETH  750821.817095431381260165                   15608   \n",
      "20               WETH  750821.817095431381260165                   15608   \n",
      "21               WETH  750821.817095431381260165                   15608   \n",
      "22               WETH  750821.817095431381260165                   15608   \n",
      "23               WETH  750821.817095431381260165                   15608   \n",
      "24               WETH  750821.817095431381260165                   15608   \n",
      "25               WETH  750821.817095431381260165                   15608   \n",
      "26               WETH  750821.817095431381260165                   15608   \n",
      "27               WETH  750821.817095431381260165                   15608   \n",
      "28               WETH  750821.817095431381260165                   15608   \n",
      "29               WETH  750821.817095431381260165                   15608   \n",
      "30               WETH  750821.817095431381260165                   15608   \n",
      "31               WETH  750821.817095431381260165                   15608   \n",
      "32               WETH  750821.817095431381260165                   15608   \n",
      "\n",
      "             pair.token1.tradeVolumeUSD pair.volumeUSD  \\\n",
      "0   270898087681.9388828118824582037487              0   \n",
      "1   270898087681.9388828118824582037487              0   \n",
      "2   270898087681.9388828118824582037487              0   \n",
      "3   270898087681.9388828118824582037487              0   \n",
      "4   270898087681.9388828118824582037487              0   \n",
      "5   270898087681.9388828118824582037487              0   \n",
      "6   270898087681.9388828118824582037487              0   \n",
      "7   270898087681.9388828118824582037487              0   \n",
      "8   270898087681.9388828118824582037487              0   \n",
      "9   270898087681.9388828118824582037487              0   \n",
      "10  270898087681.9388828118824582037487              0   \n",
      "11  270898087681.9388828118824582037487              0   \n",
      "12  270898087681.9388828118824582037487              0   \n",
      "13  270898087681.9388828118824582037487              0   \n",
      "14  270898087681.9388828118824582037487              0   \n",
      "15  270898087681.9388828118824582037487              0   \n",
      "16  270898087681.9388828118824582037487              0   \n",
      "17  270898087681.9388828118824582037487              0   \n",
      "18  270898087681.9388828118824582037487              0   \n",
      "19  270898087681.9388828118824582037487              0   \n",
      "20  270898087681.9388828118824582037487              0   \n",
      "21  270898087681.9388828118824582037487              0   \n",
      "22  270898087681.9388828118824582037487              0   \n",
      "23  270898087681.9388828118824582037487              0   \n",
      "24  270898087681.9388828118824582037487              0   \n",
      "25  270898087681.9388828118824582037487              0   \n",
      "26  270898087681.9388828118824582037487              0   \n",
      "27  270898087681.9388828118824582037487              0   \n",
      "28  270898087681.9388828118824582037487              0   \n",
      "29  270898087681.9388828118824582037487              0   \n",
      "30  270898087681.9388828118824582037487              0   \n",
      "31  270898087681.9388828118824582037487              0   \n",
      "32  270898087681.9388828118824582037487              0   \n",
      "\n",
      "   transaction.blockNumber                                     transaction.id  \n",
      "0                 11707327  0x4d81935a2732eadb8a45b18f38dde3d2c09b0389498c...  \n",
      "1                 11707265  0xfdcbf8f0c62e795cd9cf3af81adc138ce6a3b1d703c6...  \n",
      "2                 11706653  0x95d7cb47c2f9b239d382e5301fbd40baf4a2663b3d8c...  \n",
      "3                 11706415  0x6541f0aee55ac03bddaea594d26e3361be3f098927f3...  \n",
      "4                 11704819  0x955d2becbbd36fa8729af5b7a629bfc9057b1b8cdede...  \n",
      "5                 11540118  0x2bf9bc073134e81db6ab0ae40c4cb7013b41d94be17b...  \n",
      "6                 11254436  0xb860b822ef0da0d261e1ab82cf8f1b17cecc0a30cc67...  \n",
      "7                 11158724  0x76dd3d0bd6c4a2c5f522fe70b6cb4fb3a80038a33550...  \n",
      "8                 11158721  0xe155f340bee7535a6d15ff416eaca28489014e4ccfd8...  \n",
      "9                 11158713  0x8a68e7a203b4758459a58305c72f7480326f0ed7217c...  \n",
      "10                11158706  0xda2c7a8599d45e550dbb235bc459a651a44a8802120c...  \n",
      "11                11158693  0x275718b14b92df1ae2cacafe445d9125b86406bf0a9c...  \n",
      "12                11002996  0xa32232565cf9e593aa0d1ed7fe9021d7ce965194a1e6...  \n",
      "13                11002970  0x5c6faf3cfa5922adb5acb9ad49ebfbb22223a7ef3593...  \n",
      "14                10886339  0x88f33a0cb63095c72ae04be8dcd2d3c083beac58b0c8...  \n",
      "15                10886038  0xd0f101c65319f5fb1ef1bee6288d7c583f60255497a0...  \n",
      "16                10877380  0x77aa56acbc313f90ffc2bd22c56cef0eab193ad44729...  \n",
      "17                10876488  0x02894b0cb5e35eed905c5ddf8057f4acade5966659b1...  \n",
      "18                10876472  0xdb6f10acb2b30d53c96029388e6d0554ebd876023b40...  \n",
      "19                10229749  0x21202f57fb0af1468079002c07162c42912314805ee1...  \n",
      "20                10221876  0xf2b214a4def1c50b68ab23ad9eb0304ba74b00b5b1e4...  \n",
      "21                10221872  0xa62f12bd0a064d7e6da002e8b73669af313f398d6f7c...  \n",
      "22                10221865  0x8094b740b100d93d320eb9aaccd37e7f37db16697ec4...  \n",
      "23                10134245  0xc4727632be480a720ba28f74e1183104abc39f65533a...  \n",
      "24                10123697  0x69f29c10ef61223952ac44faad83bf1ae6c14a8bb236...  \n",
      "25                10119055  0xae5c8dd50062089836721a071d03a9e3753cef53299a...  \n",
      "26                10116543  0xb9d5ff29d32a6efa421d681dfaf1c92782c06dc380ad...  \n",
      "27                10115812  0xb3fb610b88dad93918185390c85f0de59e56cbfd5773...  \n",
      "28                10112538  0x2d3a4ab5ca5fbaf0d526fea027d768af6790fbddf6e1...  \n",
      "29                10109679  0x7949391c20b6561d3aef6b314942f4e41e708a2155c7...  \n",
      "30                10108337  0x13227e2e09900f258ea5b14d55e3d379359ec535f18b...  \n",
      "31                10102897  0x0244464f3a98e290af93c025f4c8ae792001f74d83cd...  \n",
      "32                10101774  0x1b1743525600ceebf8153809b84a055d6379236f5bb8...  \n"
     ]
    }
   ],
   "source": [
    "print(df)"
   ]
  },
  {
   "cell_type": "code",
   "execution_count": 101,
   "id": "984597b4",
   "metadata": {},
   "outputs": [],
   "source": [
    "#now the part of the analytics"
   ]
  },
  {
   "cell_type": "code",
   "execution_count": 102,
   "id": "d895314b",
   "metadata": {},
   "outputs": [],
   "source": [
    "import matplotlib as plt"
   ]
  },
  {
   "cell_type": "code",
   "execution_count": null,
   "id": "1d1e5445",
   "metadata": {},
   "outputs": [],
   "source": []
  },
  {
   "cell_type": "code",
   "execution_count": 103,
   "id": "7e91a19b",
   "metadata": {},
   "outputs": [],
   "source": [
    "import matplotlib.pyplot as plt\n",
    "#either matplotlib or plotly can be used for this purpose."
   ]
  },
  {
   "cell_type": "code",
   "execution_count": 104,
   "id": "45cd3a32",
   "metadata": {},
   "outputs": [
    {
     "name": "stdout",
     "output_type": "stream",
     "text": [
      "  amount0In    amount0Out amount1In            amount1Out  \\\n",
      "0         0  166.36234311      0.02                     0   \n",
      "1      19.8             0         0  0.197282391218907402   \n",
      "2         0   49.85089216   0.19825                     0   \n",
      "3      49.5             0         0  0.061411834927614139   \n",
      "4         0   11.78443205  0.059475                     0   \n",
      "\n",
      "                             amountUSD   timestamp  \\\n",
      "0  12.69168727125614564557715868176246  1611345588   \n",
      "1  124.9742655852221408464426986761304  1611344850   \n",
      "2  122.0635850293633467479694491497937  1611336524   \n",
      "3  38.22233246132220038122356815736617  1611333606   \n",
      "4  34.67253188653519004644341874692188  1611312037   \n",
      "\n",
      "                               pair.token0.id pair.token0.symbol  \\\n",
      "0  0x3e370a6c8255b065bd42bc0ac9255b269cfcc172                UNI   \n",
      "1  0x3e370a6c8255b065bd42bc0ac9255b269cfcc172                UNI   \n",
      "2  0x3e370a6c8255b065bd42bc0ac9255b269cfcc172                UNI   \n",
      "3  0x3e370a6c8255b065bd42bc0ac9255b269cfcc172                UNI   \n",
      "4  0x3e370a6c8255b065bd42bc0ac9255b269cfcc172                UNI   \n",
      "\n",
      "  pair.token0.totalLiquidity pair.token0.totalSupply  \\\n",
      "0                 0.00000001                   14336   \n",
      "1                 0.00000001                   14336   \n",
      "2                 0.00000001                   14336   \n",
      "3                 0.00000001                   14336   \n",
      "4                 0.00000001                   14336   \n",
      "\n",
      "  pair.token0.tradeVolumeUSD                              pair.token1.id  \\\n",
      "0                          0  0xc02aaa39b223fe8d0a0e5c4f27ead9083c756cc2   \n",
      "1                          0  0xc02aaa39b223fe8d0a0e5c4f27ead9083c756cc2   \n",
      "2                          0  0xc02aaa39b223fe8d0a0e5c4f27ead9083c756cc2   \n",
      "3                          0  0xc02aaa39b223fe8d0a0e5c4f27ead9083c756cc2   \n",
      "4                          0  0xc02aaa39b223fe8d0a0e5c4f27ead9083c756cc2   \n",
      "\n",
      "  pair.token1.symbol pair.token1.totalLiquidity pair.token1.totalSupply  \\\n",
      "0               WETH  750821.817095431381260165                   15608   \n",
      "1               WETH  750821.817095431381260165                   15608   \n",
      "2               WETH  750821.817095431381260165                   15608   \n",
      "3               WETH  750821.817095431381260165                   15608   \n",
      "4               WETH  750821.817095431381260165                   15608   \n",
      "\n",
      "            pair.token1.tradeVolumeUSD pair.volumeUSD transaction.blockNumber  \\\n",
      "0  270898087681.9388828118824582037487              0                11707327   \n",
      "1  270898087681.9388828118824582037487              0                11707265   \n",
      "2  270898087681.9388828118824582037487              0                11706653   \n",
      "3  270898087681.9388828118824582037487              0                11706415   \n",
      "4  270898087681.9388828118824582037487              0                11704819   \n",
      "\n",
      "                                      transaction.id  \n",
      "0  0x4d81935a2732eadb8a45b18f38dde3d2c09b0389498c...  \n",
      "1  0xfdcbf8f0c62e795cd9cf3af81adc138ce6a3b1d703c6...  \n",
      "2  0x95d7cb47c2f9b239d382e5301fbd40baf4a2663b3d8c...  \n",
      "3  0x6541f0aee55ac03bddaea594d26e3361be3f098927f3...  \n",
      "4  0x955d2becbbd36fa8729af5b7a629bfc9057b1b8cdede...  \n"
     ]
    }
   ],
   "source": [
    "print(df.head())"
   ]
  },
  {
   "cell_type": "code",
   "execution_count": 107,
   "id": "a6e949fe",
   "metadata": {},
   "outputs": [
    {
     "name": "stdout",
     "output_type": "stream",
     "text": [
      "<class 'numpy.float64'>\n"
     ]
    },
    {
     "data": {
      "text/plain": [
       "[<matplotlib.lines.Line2D at 0x11184ff70>]"
      ]
     },
     "execution_count": 107,
     "metadata": {},
     "output_type": "execute_result"
    },
    {
     "data": {
      "image/png": "[encoded data removed]",
      "text/plain": [
       "<Figure size 432x288 with 1 Axes>"
      ]
     },
     "metadata": {
      "needs_background": "light"
     },
     "output_type": "display_data"
    }
   ],
   "source": [
    "#plt.plot(df[\"timestamp\"],df[\"amountUSD\"])\n",
    "#df['amount0In'] = pd.to_numeric(df['amount0In'])\n",
    "df['amount0Out'] = pd.to_numeric(df['amount0Out'])\n",
    "df['amount1In'] = pd.to_numeric(df['amount1In'])\n",
    "df['amount1Out'] = pd.to_numeric(df['amount1Out'])\n",
    "df['amount0In'] = pd.to_numeric(df['amount0In'])\n",
    "df['amountUSD'] = pd.to_numeric(df['amountUSD'])\n",
    "print(type(df['amountUSD'][1]))\n",
    "\n",
    "df['RollingUSD'] = df['amountUSD'].rolling(window = 3).mean()\n",
    "#print(df)\n",
    "plt.plot(df['amount1Out'],df['amount1In'])\n",
    "df['RollingUSD3'] = df['amountUSD'].rolling(window = 20).mean()\n",
    "df['RollingUSD4'] = df['amountUSD'].rolling(window = 30).mean()\n",
    "#print(df)\n",
    "plt.plot(df['RollingUSD'])\n",
    "plt.plot(df['RollingUSD3'])\n",
    "plt.plot(df['RollingUSD4'])\n",
    "\n",
    "\n",
    "#df['cum_sum'] = cummulative_list['Liquidity'].cumsum()\n",
    "#df['check'] = range(1,len(cummulative_list['Liquidity'])+1)\n",
    "#df['Liquidity'] = pd.to_numeric(cummulative_list['Liquidity'])\n",
    "#df['Moving Average'] = cummulative_list['cum_sum'] / cummulative_list['check']\n",
    "#df['Rolling Mean'] = cummulative_list['Liquidity'].rolling(window = 3).mean()\n",
    "\n",
    "#the format is always x,y. Need more variables here"
   ]
  },
  {
   "cell_type": "code",
   "execution_count": null,
   "id": "faee9ffe",
   "metadata": {},
   "outputs": [],
   "source": []
  },
  {
   "cell_type": "code",
   "execution_count": null,
   "id": "a2e96d64",
   "metadata": {},
   "outputs": [],
   "source": []
  }
 ],
 "metadata": {
  "kernelspec": {
   "display_name": "Python 3",
   "language": "python",
   "name": "python3"
  },
  "language_info": {
   "codemirror_mode": {
    "name": "ipython",
    "version": 3
   },
   "file_extension": ".py",
   "mimetype": "text/x-python",
   "name": "python",
   "nbconvert_exporter": "python",
   "pygments_lexer": "ipython3",
   "version": "3.8.7"
  }
 },
 "nbformat": 4,
 "nbformat_minor": 5
}
